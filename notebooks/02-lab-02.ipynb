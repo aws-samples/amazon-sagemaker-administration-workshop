{
 "cells": [
  {
   "cell_type": "markdown",
   "id": "3a700262-e9d6-458c-8f03-1c460762166d",
   "metadata": {},
   "source": [
    "# Amazon SageMaker administration and security workshop: Lab 2\n",
    "\n",
    "This notebook contains hands-on exercises for the workshop **Amazon SageMaker administration and security** – Lab 2."
   ]
  },
  {
   "cell_type": "markdown",
   "id": "f5b1f4a5-a9fd-41ff-b311-a35bdb5ef6c8",
   "metadata": {},
   "source": [
    "## Import packages and load variables"
   ]
  },
  {
   "cell_type": "code",
   "execution_count": null,
   "id": "f63d0550-d3f2-497c-8e6f-f2dd3e8f66f4",
   "metadata": {},
   "outputs": [],
   "source": [
    "import boto3\n",
    "import sagemaker\n",
    "import os\n",
    "import json\n",
    "from sagemaker.network import NetworkConfig\n",
    "from sagemaker.sklearn.processing import SKLearnProcessor\n",
    "from sagemaker.processing import ProcessingInput, ProcessingOutput\n",
    "\n",
    "sagemaker.__version__"
   ]
  },
  {
   "cell_type": "code",
   "execution_count": null,
   "id": "ee8a37f1-a12c-414c-9b9b-90866bbfbf9d",
   "metadata": {},
   "outputs": [],
   "source": [
    "%store -r \n",
    "\n",
    "%store\n",
    "\n",
    "try:\n",
    "    initialized\n",
    "except NameError:\n",
    "    print(\"++++++++++++++++++++++++++++++++++++++++++\")\n",
    "    print(\"[ERROR] YOU HAVE TO RUN 01-lab-01 notebook         \")\n",
    "    print(\"++++++++++++++++++++++++++++++++++++++++++\")"
   ]
  },
  {
   "cell_type": "code",
   "execution_count": null,
   "id": "1d354f0d-d782-45b5-b950-ef86cab77a74",
   "metadata": {},
   "outputs": [],
   "source": [
    "# Get some variables you need to interact with SageMaker service\n",
    "boto_session = boto3.Session()\n",
    "region = boto_session.region_name\n",
    "bucket_name = sagemaker.Session().default_bucket()\n",
    "bucket_prefix = \"sm-admin-workshop/xgboost\"  \n",
    "sm_session = sagemaker.Session()\n",
    "sm_client = boto_session.client(\"sagemaker\")\n",
    "ssm = boto3.client(\"ssm\")\n",
    "sm_role = sagemaker.get_execution_role()"
   ]
  },
  {
   "cell_type": "markdown",
   "id": "7899928b-0b57-4633-ab50-7e1bbe260ea9",
   "metadata": {},
   "source": [
    "## Data protection"
   ]
  },
  {
   "cell_type": "markdown",
   "id": "37a8121b-9ed0-46b6-8dc2-4ebc32449e6d",
   "metadata": {},
   "source": [
    "### Setup parameters\n",
    "We retrieve the network configuration and encyption key parameters from the SSM store where they were saved by the CloudFormation stacks at provisioning time."
   ]
  },
  {
   "cell_type": "code",
   "execution_count": null,
   "id": "5e31af4f-cbcd-41f9-83b0-7a291059d93c",
   "metadata": {
    "tags": []
   },
   "outputs": [],
   "source": [
    "# Account id and region\n",
    "account_id = boto3.client(\"sts\").get_caller_identity()[\"Account\"]\n",
    "region = boto3.Session().region_name\n",
    "\n",
    "account_id, region"
   ]
  },
  {
   "cell_type": "code",
   "execution_count": null,
   "id": "657b62fa-6d29-46e6-b7c8-9f872231cde0",
   "metadata": {
    "tags": []
   },
   "outputs": [],
   "source": [
    "security_group_ids = ssm.get_parameter(Name=f\"sagemaker-admin-workshop-{region}-{account_id}-sagemaker-sg-ids\")[\"Parameter\"][\"Value\"]\n",
    "private_subnet_ids = ssm.get_parameter(Name=f\"sagemaker-admin-workshop-{region}-{account_id}-private-subnet-ids\")[\"Parameter\"][\"Value\"]\n",
    "ebs_key_arn = ssm.get_parameter(Name=f\"sagemaker-admin-workshop-{region}-{account_id}-kms-ebs-key-arn\")[\"Parameter\"][\"Value\"]\n",
    "\n",
    "security_group_ids, private_subnet_ids, ebs_key_arn"
   ]
  },
  {
   "cell_type": "code",
   "execution_count": null,
   "id": "76502ff9-32fe-4064-be1b-1bbc95eaab37",
   "metadata": {
    "tags": []
   },
   "outputs": [],
   "source": [
    "# Construct the NetworkConfig with the values for your environment\n",
    "network_config = NetworkConfig(\n",
    "        enable_network_isolation=False, \n",
    "        security_group_ids=security_group_ids.split(','),\n",
    "        subnets=private_subnet_ids.split(','),\n",
    "        encrypt_inter_container_traffic=True)"
   ]
  },
  {
   "cell_type": "markdown",
   "id": "067ee998-fc0f-4adb-9c32-9ffb27c24b82",
   "metadata": {
    "tags": []
   },
   "source": [
    "### Configure SageMaker processing job"
   ]
  },
  {
   "cell_type": "code",
   "execution_count": null,
   "id": "15ef5c8e-8549-4055-88eb-7c2b1bbf0f5d",
   "metadata": {
    "tags": []
   },
   "outputs": [],
   "source": [
    "framework_version = \"0.23-1\"\n",
    "processing_instance_type = \"ml.m5.large\"\n",
    "processing_instance_count = 1"
   ]
  },
  {
   "cell_type": "code",
   "execution_count": null,
   "id": "e7edcd94-2d0d-43da-9ff7-4dbba595a6a6",
   "metadata": {
    "tags": []
   },
   "outputs": [],
   "source": [
    "# Define processing inputs and outputs\n",
    "processing_inputs = [\n",
    "        ProcessingInput(\n",
    "            source=input_s3_url, \n",
    "            destination=\"/opt/ml/processing/input\",\n",
    "            s3_input_mode=\"File\",\n",
    "            s3_data_distribution_type=\"ShardedByS3Key\"\n",
    "        )\n",
    "]\n",
    "\n",
    "processing_outputs = [\n",
    "        ProcessingOutput(\n",
    "            output_name=\"train_data\", \n",
    "            source=\"/opt/ml/processing/output/train\",\n",
    "            destination=train_s3_url,\n",
    "        ),\n",
    "        ProcessingOutput(\n",
    "            output_name=\"validation_data\", \n",
    "            source=\"/opt/ml/processing/output/validation\", \n",
    "            destination=validation_s3_url\n",
    "        ),\n",
    "        ProcessingOutput(\n",
    "            output_name=\"test_data\", \n",
    "            source=\"/opt/ml/processing/output/test\", \n",
    "            destination=test_s3_url\n",
    "        ),\n",
    "]"
   ]
  },
  {
   "cell_type": "markdown",
   "id": "e17a22aa-7a39-46b6-9b73-2fb581a4fd91",
   "metadata": {},
   "source": [
    "### Enforce encryption of input data\n",
    "Follow the instructions in the workshop lab 2.\n",
    "Add the `Deny` inline policy to the user profile execution role using the `ebs_key_arn` you retrieve in the **Setup parameters** section. This inline policy enforces usage of the volume KMS key with the value equal to `ebs_key_arn`."
   ]
  },
  {
   "cell_type": "markdown",
   "id": "90d277e5-cd02-4d82-bc18-767177a2f27d",
   "metadata": {},
   "source": [
    "First, create a processor _without_ volume encryption."
   ]
  },
  {
   "cell_type": "code",
   "execution_count": null,
   "id": "9573ddc3-3a83-4450-a673-e516b550619b",
   "metadata": {
    "tags": []
   },
   "outputs": [],
   "source": [
    "# Create a processor\n",
    "sklearn_processor = SKLearnProcessor(\n",
    "    framework_version=framework_version,\n",
    "    role=sm_role,\n",
    "    instance_type=processing_instance_type,\n",
    "    instance_count=processing_instance_count, \n",
    "    base_job_name='sm-admin-workshop-processing',\n",
    "    sagemaker_session=sm_session,\n",
    "    network_config=network_config,\n",
    "#    volume_kms_key = ebs_key_arn\n",
    ")"
   ]
  },
  {
   "cell_type": "markdown",
   "id": "fa4acf24-02ef-4033-859b-5c79fd7b99eb",
   "metadata": {},
   "source": [
    "This run will fail because the execution role policy requires usage of the designated volume key, which wasn't provided."
   ]
  },
  {
   "cell_type": "code",
   "execution_count": null,
   "id": "04065974-0ee4-4e02-a88a-096ea4d6ce68",
   "metadata": {
    "tags": []
   },
   "outputs": [],
   "source": [
    "# Start the processing job\n",
    "sklearn_processor.run(\n",
    "        inputs=processing_inputs,\n",
    "        outputs=processing_outputs,\n",
    "        code='preprocessing.py',\n",
    "        wait=True,\n",
    ")"
   ]
  },
  {
   "cell_type": "markdown",
   "id": "0ef66edc-1b9d-4d96-b54d-de03de8eecee",
   "metadata": {},
   "source": [
    "Second, create a new processor with the intended value of `volume_kms_key` and run the processing job. This time you can call `processor.run()` successfully."
   ]
  },
  {
   "cell_type": "code",
   "execution_count": null,
   "id": "e3025a41-4626-4945-9a61-a4c2c33e27e3",
   "metadata": {
    "tags": []
   },
   "outputs": [],
   "source": [
    "# Create a processor and specify an EBS volume KMS key\n",
    "sklearn_processor = SKLearnProcessor(\n",
    "    framework_version=framework_version,\n",
    "    role=sm_role,\n",
    "    instance_type=processing_instance_type,\n",
    "    instance_count=processing_instance_count, \n",
    "    base_job_name='sm-admin-workshop-processing',\n",
    "    sagemaker_session=sm_session,\n",
    "    network_config=network_config,\n",
    "    volume_kms_key = ebs_key_arn\n",
    ")"
   ]
  },
  {
   "cell_type": "markdown",
   "id": "e68512c2-fa82-4b37-92df-7a22e7245553",
   "metadata": {},
   "source": [
    "<img src=\"data:image/svg+xml;base64,Cjxzdmcgd2lkdGg9IjgwMCIgaGVpZ2h0PSIxMjUiIHZpZXdCb3g9IjAgMCA4MDAgMTI1IiB4bWxucz0iaHR0cDovL3d3dy53My5vcmcvMjAwMC9zdmciPgogICAgPGRlZnM+CiAgICAgICAgPGxpbmVhckdyYWRpZW50IGlkPSJmYWRlR3JhZGllbnQiIHgxPSIwIiB4Mj0iMSI+CiAgICAgICAgICAgIDxzdG9wIG9mZnNldD0iMCUiIHN0b3AtY29sb3I9IiNGMEYwRjAiLz4KICAgICAgICAgICAgPHN0b3Agb2Zmc2V0PSIxMDAlIiBzdG9wLWNvbG9yPSIjRjBGMEYwIiBzdG9wLW9wYWNpdHk9IjAiLz4KICAgICAgICA8L2xpbmVhckdyYWRpZW50PgogICAgICAgIDxtYXNrIGlkPSJmYWRlTWFzayI+CiAgICAgICAgICAgIDxyZWN0IHg9IjAiIHk9IjAiIHdpZHRoPSI3NTAiIGhlaWdodD0iMTI1IiBmaWxsPSJ3aGl0ZSIvPgogICAgICAgICAgICA8cmVjdCB4PSI3NTAiIHk9IjAiIHdpZHRoPSI1MCIgaGVpZ2h0PSIxMjUiIGZpbGw9InVybCgjZmFkZUdyYWRpZW50KSIvPgogICAgICAgIDwvbWFzaz4KICAgIDwvZGVmcz4KICAgIDxwYXRoIGQ9Ik0zLDUwIEE1MCw1MCAwIDAgMSA1MywzIEw3OTcsMyBMNzk3LDk3IEw5Nyw5NyBMNTAsMTE1IEwzLDk3IFoiIGZpbGw9IiNGMEYwRjAiIHN0cm9rZT0iI0UwRTBFMCIgc3Ryb2tlLXdpZHRoPSIxIiBtYXNrPSJ1cmwoI2ZhZGVNYXNrKSIvPgogICAgPGNpcmNsZSBjeD0iNTAiIGN5PSI1MCIgcj0iMzAiIGZpbGw9IiM1N2M0ZjgiIHN0cm9rZT0iIzU3YzRmOCIgc3Ryb2tlLXdpZHRoPSIxIi8+CiAgICA8Y2lyY2xlIGN4PSI1MCIgY3k9IjUwIiByPSIyNSIgZmlsbD0iI0YwRjBGMCIvPgogICAgPGxpbmUgeDE9IjUwIiB5MT0iNTAiIHgyPSI1MCIgeTI9IjMwIiBzdHJva2U9IiM1N2M0ZjgiIHN0cm9rZS13aWR0aD0iMyIgc3Ryb2tlLWxpbmVjYXA9InJvdW5kIi8+CiAgICA8bGluZSB4MT0iNTAiIHkxPSI1MCIgeDI9IjY1IiB5Mj0iNTAiIHN0cm9rZT0iIzU3YzRmOCIgc3Ryb2tlLXdpZHRoPSIzIiBzdHJva2UtbGluZWNhcD0icm91bmQiLz4KICAgIDx0ZXh0IHg9IjEwMCIgeT0iMzQiIGZvbnQtZmFtaWx5PSJBcmlhbCwgc2Fucy1zZXJpZiIgZm9udC1zaXplPSIxNCIgZmlsbD0iIzMzMzMzMyI+VGhlIG5leHQgY2VsbCBtYXkgdGFrZSBhIGZldyBtaW51dGVzIHRvIHJ1bi48L3RleHQ+Cjwvc3ZnPgo=\" alt=\"Time alert open medium\"/>"
   ]
  },
  {
   "cell_type": "code",
   "execution_count": null,
   "id": "17061889-9e16-449f-9988-cb247a085b1a",
   "metadata": {},
   "outputs": [],
   "source": [
    "# This call wil succeed and the processing job will finish\n",
    "sklearn_processor.run(\n",
    "        inputs=processing_inputs,\n",
    "        outputs=processing_outputs,\n",
    "        code='preprocessing.py',\n",
    "        wait=True,\n",
    ")"
   ]
  },
  {
   "cell_type": "markdown",
   "id": "fd0ca17c-3865-4f35-a708-c4a20cc7d459",
   "metadata": {},
   "source": [
    "<img src=\"data:image/svg+xml;base64,Cjxzdmcgd2lkdGg9IjgwMCIgaGVpZ2h0PSI1MCIgdmlld0JveD0iMCAwIDgwMCA1MCIgeG1sbnM9Imh0dHA6Ly93d3cudzMub3JnLzIwMDAvc3ZnIj4KICAgIDxkZWZzPgogICAgICAgIDxsaW5lYXJHcmFkaWVudCBpZD0iZmFkZUdyYWRpZW50IiB4MT0iMCIgeDI9IjEiPgogICAgICAgICAgICA8c3RvcCBvZmZzZXQ9IjAlIiBzdG9wLWNvbG9yPSIjRjBGMEYwIi8+CiAgICAgICAgICAgIDxzdG9wIG9mZnNldD0iMTAwJSIgc3RvcC1jb2xvcj0iI0YwRjBGMCIgc3RvcC1vcGFjaXR5PSIwIi8+CiAgICAgICAgPC9saW5lYXJHcmFkaWVudD4KICAgICAgICA8bWFzayBpZD0iZmFkZU1hc2siPgogICAgICAgICAgICA8cmVjdCB4PSIwIiB5PSIwIiB3aWR0aD0iNzUwIiBoZWlnaHQ9IjUwIiBmaWxsPSJ3aGl0ZSIvPgogICAgICAgICAgICA8cmVjdCB4PSI3NTAiIHk9IjAiIHdpZHRoPSI1MCIgaGVpZ2h0PSI1MCIgZmlsbD0idXJsKCNmYWRlR3JhZGllbnQpIi8+CiAgICAgICAgPC9tYXNrPgogICAgPC9kZWZzPgogICAgPHBhdGggZD0iTTI1LDUwIFEwLDUwIDAsMjUgTDUwLDMgTDk3LDI1IEw3OTcsMjUgTDc5Nyw1MCBMMjUsNTAgWiIgZmlsbD0iI0YwRjBGMCIgc3Ryb2tlPSIjRTBFMEUwIiBzdHJva2Utd2lkdGg9IjEiIG1hc2s9InVybCgjZmFkZU1hc2spIi8+Cjwvc3ZnPgo=\" alt=\"Time alert close\"/>"
   ]
  },
  {
   "cell_type": "markdown",
   "id": "cdbdbfbf-aac5-40a8-b8bd-628527b7a33e",
   "metadata": {},
   "source": [
    "## Data access control"
   ]
  },
  {
   "cell_type": "markdown",
   "id": "85799a4c-a645-4780-a806-27084af3e607",
   "metadata": {},
   "source": [
    "## Data perimeter"
   ]
  },
  {
   "cell_type": "code",
   "execution_count": null,
   "id": "e2bdc656-34ef-4dfc-95de-1488d8212963",
   "metadata": {
    "tags": []
   },
   "outputs": [],
   "source": [
    "bucket_name = sagemaker.Session().default_bucket()\n",
    "bucket_name"
   ]
  },
  {
   "cell_type": "code",
   "execution_count": null,
   "id": "5625be1f-528a-4a1d-9c9a-50298ad7a639",
   "metadata": {
    "tags": []
   },
   "outputs": [],
   "source": [
    "s3_vpc_id = ssm.get_parameter(Name=f\"sagemaker-admin-workshop-{region}-{account_id}-s3-vpce-id\")[\"Parameter\"][\"Value\"]\n",
    "\n",
    "s3_vpc_id"
   ]
  },
  {
   "cell_type": "code",
   "execution_count": null,
   "id": "6f581e14-34e1-4ca5-8a49-493688cf253a",
   "metadata": {
    "tags": []
   },
   "outputs": [],
   "source": [
    "!aws s3 ls s3://sagemaker-us-east-1-949335012047"
   ]
  },
  {
   "cell_type": "code",
   "execution_count": null,
   "id": "f304ad72-b7f9-4b07-b5f8-84217148da91",
   "metadata": {
    "tags": []
   },
   "outputs": [],
   "source": [
    "!aws s3 ls s3://sagemaker-eu-central-1-949335012047"
   ]
  },
  {
   "cell_type": "code",
   "execution_count": null,
   "id": "e64d8c0f-ab11-4ef4-a7f1-90e13f1dd855",
   "metadata": {},
   "outputs": [],
   "source": []
  },
  {
   "cell_type": "code",
   "execution_count": null,
   "id": "6f7b1bcd-33e8-49ca-a3cc-73972231d87e",
   "metadata": {},
   "outputs": [],
   "source": []
  },
  {
   "cell_type": "markdown",
   "id": "59435cfc-9e95-4538-9c27-31ab982c1efb",
   "metadata": {},
   "source": [
    "## Resource isolation using tags\n",
    "This section demostrates how to implement resource isolation for user profiles and execution roles using tags. \n",
    "\n",
    "<div class=\"alert alert-info\"> ❗ Make sure you attached the pre-provisioned resource isolation inline policy with the name like \"sagemaker-admin-workshop-iam-SageMakerTagBasedResourceIsolationPolicy-UUID\" to the user profile execution role. For instructions refer to the solutions for the lab 2.\n",
    "</div>\n",
    "\n",
    "This example implements isolation for SageMaker processing and training jobs. You can extend the same approach for any taggable resources, for example SageMaker pipelines, model registry model package groups, models, or inference endpoints.\n",
    "\n",
    "We implement resource isolation based on the value of the tag `team`. Each user profile can tag, create, and describe jobs for it's own team only. "
   ]
  },
  {
   "cell_type": "code",
   "execution_count": null,
   "id": "9b5ec143-13ef-4de9-a977-ee5314b975c9",
   "metadata": {},
   "outputs": [],
   "source": [
    "team_tag_key = \"team\"\n",
    "session = boto3.session.Session()\n",
    "sm = session.client(\"sagemaker\")\n",
    "\n",
    "print(f\"user profle execution role: {sagemaker.get_execution_role()}\")"
   ]
  },
  {
   "cell_type": "code",
   "execution_count": null,
   "id": "d824eafb-7a29-4ed2-a573-6948c51cfcb7",
   "metadata": {
    "tags": []
   },
   "outputs": [],
   "source": [
    "# Get the job name, ARN, and tags for the job wth the specified index\n",
    "def GetJobTags(JobIndex=0):\n",
    "    r = sm.list_processing_jobs(MaxResults=JobIndex+1)\n",
    "    if len(r[\"ProcessingJobSummaries\"]) < JobIndex+1:\n",
    "        print(f\"No processing job with the index {JobIndex} found!\")\n",
    "        return {}\n",
    "    \n",
    "    processing_job_name = r[\"ProcessingJobSummaries\"][JobIndex][\"ProcessingJobName\"]\n",
    "    processing_job_arn =  r[\"ProcessingJobSummaries\"][JobIndex][\"ProcessingJobArn\"]\n",
    "\n",
    "    return processing_job_name, processing_job_arn, sm.list_tags(ResourceArn=processing_job_arn)[\"Tags\"]"
   ]
  },
  {
   "cell_type": "code",
   "execution_count": null,
   "id": "57966d4f-c784-4d9f-b663-2e07141a1423",
   "metadata": {
    "tags": []
   },
   "outputs": [],
   "source": [
    "# Show the tags of the last processing job\n",
    "# Make sure you have created at least one processing job in the previous experiments\n",
    "GetJobTags(0)"
   ]
  },
  {
   "cell_type": "code",
   "execution_count": null,
   "id": "4d74df6f-c099-41d3-82b8-17193694377e",
   "metadata": {
    "tags": []
   },
   "outputs": [],
   "source": [
    "# Get tags for the current user profile\n",
    "def GetUserProfileTags():\n",
    "    # Get the tags of the current user profile\n",
    "    NOTEBOOK_METADATA_FILE = \"/opt/ml/metadata/resource-metadata.json\"\n",
    "\n",
    "    # Check what profile you're currently in\n",
    "    if os.path.exists(NOTEBOOK_METADATA_FILE):\n",
    "        with open(NOTEBOOK_METADATA_FILE, \"rb\") as f:\n",
    "            user_profile_name = json.loads(f.read())['UserProfileName']\n",
    "            print(f\"User profile: {user_profile_name}\")\n",
    "\n",
    "    user_profile_arn = sm.describe_user_profile(DomainId=domain_id, UserProfileName=user_profile_name)[\"UserProfileArn\"]\n",
    "    return sm.list_tags(ResourceArn=user_profile_arn)[\"Tags\"]"
   ]
  },
  {
   "cell_type": "code",
   "execution_count": null,
   "id": "93cc2a59-8499-46c8-9233-1b23a88c260b",
   "metadata": {
    "tags": []
   },
   "outputs": [],
   "source": [
    "# Show the tags on the user profile\n",
    "user_tags = GetUserProfileTags()\n",
    "user_tags"
   ]
  },
  {
   "cell_type": "code",
   "execution_count": null,
   "id": "c7d6aaee-5a91-484f-9698-968d550ea492",
   "metadata": {
    "tags": []
   },
   "outputs": [],
   "source": [
    "# Get the value of the tag \"team\"\n",
    "user_team = [v['Value'] for v in user_tags if v['Key'] == team_tag_key][0]\n",
    "print(f\"The team key value for the current user profile: {user_team}\")"
   ]
  },
  {
   "cell_type": "markdown",
   "id": "583d083d-cc1a-4846-a4d2-ffce979c1274",
   "metadata": {},
   "source": [
    "### Access control for tagging operation\n",
    "\n",
    "It's important to protect your tags on resources when you implement tag-based access control. For example, you can completely block any access to tags for user execution roles. The resource isolation policy in this example implements a less restrictive approach and enforces the following rules for `AddTags`, `DeleteTags` operations:\n",
    "- If the resource has the `team` tag with the value _different_ from that of the current user profile, any tagging operation is denied. For example, for the user from the `Team-A`, the policy denies `AddTags` and `DeleteTags` if the resource is tagged with the tag `team` with the value not equal to`Team-A`\n",
    "- If there is no `team` tag on the resource or the `team` tag value is the same as that of the current user profile, the user can tag the resource\n",
    "- If the tag `team` is added to the resource, it's value must be the same as that of the current user profile\n",
    "\n",
    "The following code cells demonstrate these use cases."
   ]
  },
  {
   "cell_type": "code",
   "execution_count": null,
   "id": "20990ad9-02c6-4cab-8e21-f5f0c7f0a411",
   "metadata": {
    "tags": []
   },
   "outputs": [],
   "source": [
    "job_name, job_arn, job_tags  = GetJobTags(0)\n",
    "job_name, job_arn, job_tags"
   ]
  },
  {
   "cell_type": "code",
   "execution_count": null,
   "id": "112ec4ca-47bc-490c-a70f-5cc0283b24dc",
   "metadata": {
    "tags": []
   },
   "outputs": [],
   "source": [
    "# Set intended tag key and  value - success\n",
    "sm.add_tags(ResourceArn=job_arn, Tags=[{'Key': team_tag_key, 'Value': user_team}])"
   ]
  },
  {
   "cell_type": "code",
   "execution_count": null,
   "id": "a7576b5a-5e69-4615-8499-0c5ad563dc33",
   "metadata": {
    "tags": []
   },
   "outputs": [],
   "source": [
    "# Set any other tag key - success\n",
    "sm.add_tags(ResourceArn=job_arn, Tags=[{'Key': 'another-tag-key', 'Value': 'key-value'}])"
   ]
  },
  {
   "cell_type": "code",
   "execution_count": null,
   "id": "5b58151e-61cc-46a2-b019-99c966883854",
   "metadata": {
    "tags": []
   },
   "outputs": [],
   "source": [
    "# Set intended tag key and unintended value - AccessDeniedException\n",
    "sm.add_tags(ResourceArn=job_arn, Tags=[{'Key': team_tag_key, 'Value': 'unitended-value'}])"
   ]
  },
  {
   "cell_type": "code",
   "execution_count": null,
   "id": "42023de3-3d4d-4008-9ca4-144e04f3c785",
   "metadata": {
    "tags": []
   },
   "outputs": [],
   "source": [
    "# Set intended tag key and uninteded value - AccessDeniedException\n",
    "sm.add_tags(ResourceArn=job_arn, Tags=[{'Key': team_tag_key, 'Value': 'team-B'}, {'Key': 'another-tag-key', 'Value': 'key-value'}])"
   ]
  },
  {
   "cell_type": "code",
   "execution_count": null,
   "id": "43faa9f4-2d1b-41bd-a8ad-7b985f58c3a2",
   "metadata": {
    "tags": []
   },
   "outputs": [],
   "source": [
    "# Print the job tags\n",
    "GetJobTags(0)"
   ]
  },
  {
   "cell_type": "markdown",
   "id": "4fb76728-4613-43a2-99b5-5ce4af6cb79b",
   "metadata": {},
   "source": [
    "### Access control for `Create*` operations\n",
    "For tag-based resource isolation works properly you need to tag any new resource at it's creation. For SageMaker processing and training job you must provide correct tags in `CreateProcessingJob` and `CreateTrainingJob` API calls.\n",
    "\n",
    "Any call of `CreateProcessingJob` must include the tag key `team` with the correct value. The value must be equal to that of the user profile tag key `team`."
   ]
  },
  {
   "cell_type": "code",
   "execution_count": null,
   "id": "20127e75-5475-450b-8360-50accc1b0378",
   "metadata": {
    "tags": []
   },
   "outputs": [],
   "source": [
    "def CreateProcessingJobWithTags(Tags):\n",
    "    sklearn_processor = SKLearnProcessor(\n",
    "        framework_version=framework_version,\n",
    "        role=sm_role,\n",
    "        instance_type=processing_instance_type,\n",
    "        instance_count=processing_instance_count, \n",
    "        base_job_name='sm-admin-workshop-processing',\n",
    "        sagemaker_session=sm_session,\n",
    "        network_config=network_config,\n",
    "        volume_kms_key = ebs_key_arn,\n",
    "        tags=Tags\n",
    "    )\n",
    "    \n",
    "    # This call will create a new processing jobs with the specified tags from the Processor class\n",
    "    sklearn_processor.run(\n",
    "            inputs=processing_inputs,\n",
    "            outputs=processing_outputs,\n",
    "            code='preprocessing.py',\n",
    "            wait=False,\n",
    "    )"
   ]
  },
  {
   "cell_type": "markdown",
   "id": "26d42669-1f26-445d-b00d-d31ac4ab5a18",
   "metadata": {},
   "source": [
    "Now try to create a processing job with different combinations of the tags.\n",
    "\n",
    "<div class=\"alert alert-info\"> ❗ Make sure you executed Setup parameters and Configure SageMaker processing job in the Data protection section. \n",
    "</div>"
   ]
  },
  {
   "cell_type": "code",
   "execution_count": null,
   "id": "d4f576ce-ea17-4112-a0e0-1335b6f5f5a2",
   "metadata": {
    "tags": []
   },
   "outputs": [],
   "source": [
    "# No tags attached\n",
    "Tags=[]\n",
    "\n",
    "# This call will fail with AccessDeniedException\n",
    "CreateProcessingJobWithTags(Tags)"
   ]
  },
  {
   "cell_type": "code",
   "execution_count": null,
   "id": "c69cdac0-c6d1-4c0d-aa5e-ed927e7cb8f2",
   "metadata": {
    "tags": []
   },
   "outputs": [],
   "source": [
    "# Unintended tag key\n",
    "Tags=[{'Key': 'unintended-key', 'Value': user_team}]\n",
    "\n",
    "# This call will fail with AccessDeniedException\n",
    "CreateProcessingJobWithTags(Tags)"
   ]
  },
  {
   "cell_type": "code",
   "execution_count": null,
   "id": "3c99c347-c5a7-48e8-b7d7-8b8240948a02",
   "metadata": {
    "tags": []
   },
   "outputs": [],
   "source": [
    "# Unintended tag value\n",
    "Tags=[{'Key': team_tag_key, 'Value': 'unintended-value'}]\n",
    "\n",
    "# This call will fail with AccessDeniedException\n",
    "CreateProcessingJobWithTags(Tags)"
   ]
  },
  {
   "cell_type": "code",
   "execution_count": null,
   "id": "a3a60996-3f6b-457b-9bbf-57374d373ab6",
   "metadata": {
    "tags": []
   },
   "outputs": [],
   "source": [
    "# The only correct tag key and value\n",
    "Tags=user_tags\n",
    "Tags"
   ]
  },
  {
   "cell_type": "code",
   "execution_count": null,
   "id": "c1ce3c33-fd81-49ec-a522-8de836f5969f",
   "metadata": {},
   "outputs": [],
   "source": [
    "# This call will succed and create a processing job\n",
    "CreateProcessingJobWithTags(Tags)"
   ]
  },
  {
   "cell_type": "markdown",
   "id": "cfbc38fd-77e5-46a5-af7f-c7cfe5be831d",
   "metadata": {},
   "source": [
    "### Access control for `Describe, Delete, Update, Stop` operations\n",
    "The resource isolation policy denies all operations on the protected resource if the intended tag missing or set to a value that doesn't match that of the current user profile.\n",
    "These operations are only allowed on the jobs tagged with the tag `team` with the value equal to that of the user profile tag key `team`."
   ]
  },
  {
   "cell_type": "code",
   "execution_count": null,
   "id": "3e88d84b-8c91-4bb4-83ce-7e4cef441d43",
   "metadata": {
    "tags": []
   },
   "outputs": [],
   "source": [
    "session = boto3.session.Session()\n",
    "sm = session.client(\"sagemaker\")"
   ]
  },
  {
   "cell_type": "code",
   "execution_count": null,
   "id": "e784e403-cdd9-4c29-82d8-0cf03fba18b0",
   "metadata": {},
   "outputs": [],
   "source": [
    "# Print the last job tags\n",
    "job_name, job_arn, job_tags = GetJobTags(0)\n",
    "job_name, job_arn, job_tags"
   ]
  },
  {
   "cell_type": "code",
   "execution_count": null,
   "id": "4aea8102-092b-4879-829c-bc0f27588749",
   "metadata": {
    "tags": []
   },
   "outputs": [],
   "source": [
    "# Print the tags on the user profile\n",
    "GetUserProfileTags()"
   ]
  },
  {
   "cell_type": "code",
   "execution_count": null,
   "id": "c29acb85-17e5-4b1b-a151-23617dd380d7",
   "metadata": {
    "tags": []
   },
   "outputs": [],
   "source": [
    "# Succeds only if the tags on the user profile and the job match\n",
    "sm.describe_processing_job(ProcessingJobName=job_name)"
   ]
  },
  {
   "cell_type": "code",
   "execution_count": null,
   "id": "af051a37-3283-4621-8669-5690d6a95ca2",
   "metadata": {},
   "outputs": [],
   "source": [
    "# Access to StopProcessingJob API is only allowed if tags match\n",
    "sm.stop_processing_job(ProcessingJobName=job_name)"
   ]
  },
  {
   "cell_type": "markdown",
   "id": "fbc72245-ccfc-40e1-9bf5-30286d58ce17",
   "metadata": {},
   "source": [
    "### Access resource from a different user profile\n",
    "Now open a new browser and sign in with a different user profile with a different  execution role. The execution role for that user profile has a different value of the `team` tag. Run this section in the new Studio. Make sure you have a different user profile name shown in the right corner of the Studio.\n",
    "\n",
    "The calls to `DescribeProcessingJob` and `StopProcessingJob` will fail because the tag value on the user profile doesn't match the tag value on the processing job.\n",
    "\n",
    "Congratulations, you've just implemented the resource isolation using tags and IAM permission policies. Feel free to experiment further with other resources and more sophisticated isolation rules."
   ]
  },
  {
   "cell_type": "markdown",
   "id": "e131b99a-5ee9-4320-81a8-a5a0b0f6c6a3",
   "metadata": {},
   "source": [
    "### Clean up\n",
    "Remove the resource isolation policy from the user profile execution roles.\n",
    "You can use the generated link to the AWS IAM console in the next cell."
   ]
  },
  {
   "cell_type": "code",
   "execution_count": null,
   "id": "3eae6f78-d392-4643-a8b3-bd9e97b4e02d",
   "metadata": {
    "tags": []
   },
   "outputs": [],
   "source": [
    "from IPython.core.display import display, HTML\n",
    "\n",
    "# Execute this cell to show the execution role IAM console link\n",
    "display(\n",
    "    HTML(\n",
    "        '<b>Remove the resource isolation policy from the execution role in <a target=\"top\" href=\"https://us-east-1.console.aws.amazon.com/iamv2/home#/roles/details/{}?section=permissions\">AWS IAM console.</a></b>'.format(\n",
    "            sagemaker.get_execution_role().split(\"/\")[-1])\n",
    "    )\n",
    ")"
   ]
  },
  {
   "cell_type": "markdown",
   "id": "c9f97b2f-ca75-4507-b4bb-1ecd1317fb9b",
   "metadata": {},
   "source": [
    "## End of the lab 2\n",
    "Follow the instructions in the lab 3 of the workshop and the [`03-lab-03.ipynb`](03-lab-03.ipynb) notebook.\n",
    "\n",
    "---"
   ]
  },
  {
   "cell_type": "markdown",
   "id": "cb51d65a-abb5-4f6b-b560-3f09153c54ff",
   "metadata": {},
   "source": [
    "## Shutdown kernel"
   ]
  },
  {
   "cell_type": "code",
   "execution_count": null,
   "id": "e9831a69-4795-4c28-b0e2-6b5791e819f1",
   "metadata": {},
   "outputs": [],
   "source": [
    "%%html\n",
    "\n",
    "<p><b>Shutting down your kernel for this notebook to release resources.</b></p>\n",
    "<button class=\"sm-command-button\" data-commandlinker-command=\"kernelmenu:shutdown\" style=\"display:none;\">Shutdown Kernel</button>\n",
    "        \n",
    "<script>\n",
    "try {\n",
    "    els = document.getElementsByClassName(\"sm-command-button\");\n",
    "    els[0].click();\n",
    "}\n",
    "catch(err) {\n",
    "    // NoOp\n",
    "}    \n",
    "</script>"
   ]
  }
 ],
 "metadata": {
  "availableInstances": [
   {
    "_defaultOrder": 0,
    "_isFastLaunch": true,
    "category": "General purpose",
    "gpuNum": 0,
    "hideHardwareSpecs": false,
    "memoryGiB": 4,
    "name": "ml.t3.medium",
    "vcpuNum": 2
   },
   {
    "_defaultOrder": 1,
    "_isFastLaunch": false,
    "category": "General purpose",
    "gpuNum": 0,
    "hideHardwareSpecs": false,
    "memoryGiB": 8,
    "name": "ml.t3.large",
    "vcpuNum": 2
   },
   {
    "_defaultOrder": 2,
    "_isFastLaunch": false,
    "category": "General purpose",
    "gpuNum": 0,
    "hideHardwareSpecs": false,
    "memoryGiB": 16,
    "name": "ml.t3.xlarge",
    "vcpuNum": 4
   },
   {
    "_defaultOrder": 3,
    "_isFastLaunch": false,
    "category": "General purpose",
    "gpuNum": 0,
    "hideHardwareSpecs": false,
    "memoryGiB": 32,
    "name": "ml.t3.2xlarge",
    "vcpuNum": 8
   },
   {
    "_defaultOrder": 4,
    "_isFastLaunch": true,
    "category": "General purpose",
    "gpuNum": 0,
    "hideHardwareSpecs": false,
    "memoryGiB": 8,
    "name": "ml.m5.large",
    "vcpuNum": 2
   },
   {
    "_defaultOrder": 5,
    "_isFastLaunch": false,
    "category": "General purpose",
    "gpuNum": 0,
    "hideHardwareSpecs": false,
    "memoryGiB": 16,
    "name": "ml.m5.xlarge",
    "vcpuNum": 4
   },
   {
    "_defaultOrder": 6,
    "_isFastLaunch": false,
    "category": "General purpose",
    "gpuNum": 0,
    "hideHardwareSpecs": false,
    "memoryGiB": 32,
    "name": "ml.m5.2xlarge",
    "vcpuNum": 8
   },
   {
    "_defaultOrder": 7,
    "_isFastLaunch": false,
    "category": "General purpose",
    "gpuNum": 0,
    "hideHardwareSpecs": false,
    "memoryGiB": 64,
    "name": "ml.m5.4xlarge",
    "vcpuNum": 16
   },
   {
    "_defaultOrder": 8,
    "_isFastLaunch": false,
    "category": "General purpose",
    "gpuNum": 0,
    "hideHardwareSpecs": false,
    "memoryGiB": 128,
    "name": "ml.m5.8xlarge",
    "vcpuNum": 32
   },
   {
    "_defaultOrder": 9,
    "_isFastLaunch": false,
    "category": "General purpose",
    "gpuNum": 0,
    "hideHardwareSpecs": false,
    "memoryGiB": 192,
    "name": "ml.m5.12xlarge",
    "vcpuNum": 48
   },
   {
    "_defaultOrder": 10,
    "_isFastLaunch": false,
    "category": "General purpose",
    "gpuNum": 0,
    "hideHardwareSpecs": false,
    "memoryGiB": 256,
    "name": "ml.m5.16xlarge",
    "vcpuNum": 64
   },
   {
    "_defaultOrder": 11,
    "_isFastLaunch": false,
    "category": "General purpose",
    "gpuNum": 0,
    "hideHardwareSpecs": false,
    "memoryGiB": 384,
    "name": "ml.m5.24xlarge",
    "vcpuNum": 96
   },
   {
    "_defaultOrder": 12,
    "_isFastLaunch": false,
    "category": "General purpose",
    "gpuNum": 0,
    "hideHardwareSpecs": false,
    "memoryGiB": 8,
    "name": "ml.m5d.large",
    "vcpuNum": 2
   },
   {
    "_defaultOrder": 13,
    "_isFastLaunch": false,
    "category": "General purpose",
    "gpuNum": 0,
    "hideHardwareSpecs": false,
    "memoryGiB": 16,
    "name": "ml.m5d.xlarge",
    "vcpuNum": 4
   },
   {
    "_defaultOrder": 14,
    "_isFastLaunch": false,
    "category": "General purpose",
    "gpuNum": 0,
    "hideHardwareSpecs": false,
    "memoryGiB": 32,
    "name": "ml.m5d.2xlarge",
    "vcpuNum": 8
   },
   {
    "_defaultOrder": 15,
    "_isFastLaunch": false,
    "category": "General purpose",
    "gpuNum": 0,
    "hideHardwareSpecs": false,
    "memoryGiB": 64,
    "name": "ml.m5d.4xlarge",
    "vcpuNum": 16
   },
   {
    "_defaultOrder": 16,
    "_isFastLaunch": false,
    "category": "General purpose",
    "gpuNum": 0,
    "hideHardwareSpecs": false,
    "memoryGiB": 128,
    "name": "ml.m5d.8xlarge",
    "vcpuNum": 32
   },
   {
    "_defaultOrder": 17,
    "_isFastLaunch": false,
    "category": "General purpose",
    "gpuNum": 0,
    "hideHardwareSpecs": false,
    "memoryGiB": 192,
    "name": "ml.m5d.12xlarge",
    "vcpuNum": 48
   },
   {
    "_defaultOrder": 18,
    "_isFastLaunch": false,
    "category": "General purpose",
    "gpuNum": 0,
    "hideHardwareSpecs": false,
    "memoryGiB": 256,
    "name": "ml.m5d.16xlarge",
    "vcpuNum": 64
   },
   {
    "_defaultOrder": 19,
    "_isFastLaunch": false,
    "category": "General purpose",
    "gpuNum": 0,
    "hideHardwareSpecs": false,
    "memoryGiB": 384,
    "name": "ml.m5d.24xlarge",
    "vcpuNum": 96
   },
   {
    "_defaultOrder": 20,
    "_isFastLaunch": false,
    "category": "General purpose",
    "gpuNum": 0,
    "hideHardwareSpecs": true,
    "memoryGiB": 0,
    "name": "ml.geospatial.interactive",
    "supportedImageNames": [
     "sagemaker-geospatial-v1-0"
    ],
    "vcpuNum": 0
   },
   {
    "_defaultOrder": 21,
    "_isFastLaunch": true,
    "category": "Compute optimized",
    "gpuNum": 0,
    "hideHardwareSpecs": false,
    "memoryGiB": 4,
    "name": "ml.c5.large",
    "vcpuNum": 2
   },
   {
    "_defaultOrder": 22,
    "_isFastLaunch": false,
    "category": "Compute optimized",
    "gpuNum": 0,
    "hideHardwareSpecs": false,
    "memoryGiB": 8,
    "name": "ml.c5.xlarge",
    "vcpuNum": 4
   },
   {
    "_defaultOrder": 23,
    "_isFastLaunch": false,
    "category": "Compute optimized",
    "gpuNum": 0,
    "hideHardwareSpecs": false,
    "memoryGiB": 16,
    "name": "ml.c5.2xlarge",
    "vcpuNum": 8
   },
   {
    "_defaultOrder": 24,
    "_isFastLaunch": false,
    "category": "Compute optimized",
    "gpuNum": 0,
    "hideHardwareSpecs": false,
    "memoryGiB": 32,
    "name": "ml.c5.4xlarge",
    "vcpuNum": 16
   },
   {
    "_defaultOrder": 25,
    "_isFastLaunch": false,
    "category": "Compute optimized",
    "gpuNum": 0,
    "hideHardwareSpecs": false,
    "memoryGiB": 72,
    "name": "ml.c5.9xlarge",
    "vcpuNum": 36
   },
   {
    "_defaultOrder": 26,
    "_isFastLaunch": false,
    "category": "Compute optimized",
    "gpuNum": 0,
    "hideHardwareSpecs": false,
    "memoryGiB": 96,
    "name": "ml.c5.12xlarge",
    "vcpuNum": 48
   },
   {
    "_defaultOrder": 27,
    "_isFastLaunch": false,
    "category": "Compute optimized",
    "gpuNum": 0,
    "hideHardwareSpecs": false,
    "memoryGiB": 144,
    "name": "ml.c5.18xlarge",
    "vcpuNum": 72
   },
   {
    "_defaultOrder": 28,
    "_isFastLaunch": false,
    "category": "Compute optimized",
    "gpuNum": 0,
    "hideHardwareSpecs": false,
    "memoryGiB": 192,
    "name": "ml.c5.24xlarge",
    "vcpuNum": 96
   },
   {
    "_defaultOrder": 29,
    "_isFastLaunch": true,
    "category": "Accelerated computing",
    "gpuNum": 1,
    "hideHardwareSpecs": false,
    "memoryGiB": 16,
    "name": "ml.g4dn.xlarge",
    "vcpuNum": 4
   },
   {
    "_defaultOrder": 30,
    "_isFastLaunch": false,
    "category": "Accelerated computing",
    "gpuNum": 1,
    "hideHardwareSpecs": false,
    "memoryGiB": 32,
    "name": "ml.g4dn.2xlarge",
    "vcpuNum": 8
   },
   {
    "_defaultOrder": 31,
    "_isFastLaunch": false,
    "category": "Accelerated computing",
    "gpuNum": 1,
    "hideHardwareSpecs": false,
    "memoryGiB": 64,
    "name": "ml.g4dn.4xlarge",
    "vcpuNum": 16
   },
   {
    "_defaultOrder": 32,
    "_isFastLaunch": false,
    "category": "Accelerated computing",
    "gpuNum": 1,
    "hideHardwareSpecs": false,
    "memoryGiB": 128,
    "name": "ml.g4dn.8xlarge",
    "vcpuNum": 32
   },
   {
    "_defaultOrder": 33,
    "_isFastLaunch": false,
    "category": "Accelerated computing",
    "gpuNum": 4,
    "hideHardwareSpecs": false,
    "memoryGiB": 192,
    "name": "ml.g4dn.12xlarge",
    "vcpuNum": 48
   },
   {
    "_defaultOrder": 34,
    "_isFastLaunch": false,
    "category": "Accelerated computing",
    "gpuNum": 1,
    "hideHardwareSpecs": false,
    "memoryGiB": 256,
    "name": "ml.g4dn.16xlarge",
    "vcpuNum": 64
   },
   {
    "_defaultOrder": 35,
    "_isFastLaunch": false,
    "category": "Accelerated computing",
    "gpuNum": 1,
    "hideHardwareSpecs": false,
    "memoryGiB": 61,
    "name": "ml.p3.2xlarge",
    "vcpuNum": 8
   },
   {
    "_defaultOrder": 36,
    "_isFastLaunch": false,
    "category": "Accelerated computing",
    "gpuNum": 4,
    "hideHardwareSpecs": false,
    "memoryGiB": 244,
    "name": "ml.p3.8xlarge",
    "vcpuNum": 32
   },
   {
    "_defaultOrder": 37,
    "_isFastLaunch": false,
    "category": "Accelerated computing",
    "gpuNum": 8,
    "hideHardwareSpecs": false,
    "memoryGiB": 488,
    "name": "ml.p3.16xlarge",
    "vcpuNum": 64
   },
   {
    "_defaultOrder": 38,
    "_isFastLaunch": false,
    "category": "Accelerated computing",
    "gpuNum": 8,
    "hideHardwareSpecs": false,
    "memoryGiB": 768,
    "name": "ml.p3dn.24xlarge",
    "vcpuNum": 96
   },
   {
    "_defaultOrder": 39,
    "_isFastLaunch": false,
    "category": "Memory Optimized",
    "gpuNum": 0,
    "hideHardwareSpecs": false,
    "memoryGiB": 16,
    "name": "ml.r5.large",
    "vcpuNum": 2
   },
   {
    "_defaultOrder": 40,
    "_isFastLaunch": false,
    "category": "Memory Optimized",
    "gpuNum": 0,
    "hideHardwareSpecs": false,
    "memoryGiB": 32,
    "name": "ml.r5.xlarge",
    "vcpuNum": 4
   },
   {
    "_defaultOrder": 41,
    "_isFastLaunch": false,
    "category": "Memory Optimized",
    "gpuNum": 0,
    "hideHardwareSpecs": false,
    "memoryGiB": 64,
    "name": "ml.r5.2xlarge",
    "vcpuNum": 8
   },
   {
    "_defaultOrder": 42,
    "_isFastLaunch": false,
    "category": "Memory Optimized",
    "gpuNum": 0,
    "hideHardwareSpecs": false,
    "memoryGiB": 128,
    "name": "ml.r5.4xlarge",
    "vcpuNum": 16
   },
   {
    "_defaultOrder": 43,
    "_isFastLaunch": false,
    "category": "Memory Optimized",
    "gpuNum": 0,
    "hideHardwareSpecs": false,
    "memoryGiB": 256,
    "name": "ml.r5.8xlarge",
    "vcpuNum": 32
   },
   {
    "_defaultOrder": 44,
    "_isFastLaunch": false,
    "category": "Memory Optimized",
    "gpuNum": 0,
    "hideHardwareSpecs": false,
    "memoryGiB": 384,
    "name": "ml.r5.12xlarge",
    "vcpuNum": 48
   },
   {
    "_defaultOrder": 45,
    "_isFastLaunch": false,
    "category": "Memory Optimized",
    "gpuNum": 0,
    "hideHardwareSpecs": false,
    "memoryGiB": 512,
    "name": "ml.r5.16xlarge",
    "vcpuNum": 64
   },
   {
    "_defaultOrder": 46,
    "_isFastLaunch": false,
    "category": "Memory Optimized",
    "gpuNum": 0,
    "hideHardwareSpecs": false,
    "memoryGiB": 768,
    "name": "ml.r5.24xlarge",
    "vcpuNum": 96
   },
   {
    "_defaultOrder": 47,
    "_isFastLaunch": false,
    "category": "Accelerated computing",
    "gpuNum": 1,
    "hideHardwareSpecs": false,
    "memoryGiB": 16,
    "name": "ml.g5.xlarge",
    "vcpuNum": 4
   },
   {
    "_defaultOrder": 48,
    "_isFastLaunch": false,
    "category": "Accelerated computing",
    "gpuNum": 1,
    "hideHardwareSpecs": false,
    "memoryGiB": 32,
    "name": "ml.g5.2xlarge",
    "vcpuNum": 8
   },
   {
    "_defaultOrder": 49,
    "_isFastLaunch": false,
    "category": "Accelerated computing",
    "gpuNum": 1,
    "hideHardwareSpecs": false,
    "memoryGiB": 64,
    "name": "ml.g5.4xlarge",
    "vcpuNum": 16
   },
   {
    "_defaultOrder": 50,
    "_isFastLaunch": false,
    "category": "Accelerated computing",
    "gpuNum": 1,
    "hideHardwareSpecs": false,
    "memoryGiB": 128,
    "name": "ml.g5.8xlarge",
    "vcpuNum": 32
   },
   {
    "_defaultOrder": 51,
    "_isFastLaunch": false,
    "category": "Accelerated computing",
    "gpuNum": 1,
    "hideHardwareSpecs": false,
    "memoryGiB": 256,
    "name": "ml.g5.16xlarge",
    "vcpuNum": 64
   },
   {
    "_defaultOrder": 52,
    "_isFastLaunch": false,
    "category": "Accelerated computing",
    "gpuNum": 4,
    "hideHardwareSpecs": false,
    "memoryGiB": 192,
    "name": "ml.g5.12xlarge",
    "vcpuNum": 48
   },
   {
    "_defaultOrder": 53,
    "_isFastLaunch": false,
    "category": "Accelerated computing",
    "gpuNum": 4,
    "hideHardwareSpecs": false,
    "memoryGiB": 384,
    "name": "ml.g5.24xlarge",
    "vcpuNum": 96
   },
   {
    "_defaultOrder": 54,
    "_isFastLaunch": false,
    "category": "Accelerated computing",
    "gpuNum": 8,
    "hideHardwareSpecs": false,
    "memoryGiB": 768,
    "name": "ml.g5.48xlarge",
    "vcpuNum": 192
   }
  ],
  "instance_type": "ml.t3.medium",
  "kernelspec": {
   "display_name": "Python 3 (Data Science)",
   "language": "python",
   "name": "python3__SAGEMAKER_INTERNAL__arn:aws:sagemaker:us-east-1:081325390199:image/datascience-1.0"
  },
  "language_info": {
   "codemirror_mode": {
    "name": "ipython",
    "version": 3
   },
   "file_extension": ".py",
   "mimetype": "text/x-python",
   "name": "python",
   "nbconvert_exporter": "python",
   "pygments_lexer": "ipython3",
   "version": "3.7.10"
  }
 },
 "nbformat": 4,
 "nbformat_minor": 5
}
