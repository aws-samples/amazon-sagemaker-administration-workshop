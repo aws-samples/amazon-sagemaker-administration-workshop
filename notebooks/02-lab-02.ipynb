{
 "cells": [
  {
   "cell_type": "markdown",
   "id": "3a700262-e9d6-458c-8f03-1c460762166d",
   "metadata": {},
   "source": [
    "# Amazon SageMaker administration and security workshop: Lab 2\n",
    "\n",
    "This notebook contains hands-on exercises for the workshop **Amazon SageMaker administration and security** – Lab 2."
   ]
  },
  {
   "cell_type": "markdown",
   "id": "f5b1f4a5-a9fd-41ff-b311-a35bdb5ef6c8",
   "metadata": {},
   "source": [
    "## Import packages and load variables"
   ]
  },
  {
   "cell_type": "code",
   "execution_count": 15,
   "id": "f63d0550-d3f2-497c-8e6f-f2dd3e8f66f4",
   "metadata": {},
   "outputs": [
    {
     "data": {
      "text/plain": [
       "'2.144.0'"
      ]
     },
     "execution_count": 15,
     "metadata": {},
     "output_type": "execute_result"
    }
   ],
   "source": [
    "import boto3\n",
    "import sagemaker\n",
    "from sagemaker.network import NetworkConfig\n",
    "from sagemaker.sklearn.processing import SKLearnProcessor\n",
    "from sagemaker.processing import ProcessingInput, ProcessingOutput\n",
    "\n",
    "sagemaker.__version__"
   ]
  },
  {
   "cell_type": "code",
   "execution_count": 10,
   "id": "ee8a37f1-a12c-414c-9b9b-90866bbfbf9d",
   "metadata": {},
   "outputs": [
    {
     "name": "stdout",
     "output_type": "stream",
     "text": [
      "Stored variables and their in-db values:\n",
      "bucket_name                   -> 'sagemaker-us-east-1-949335012047'\n",
      "bucket_prefix                 -> 'from-idea-to-prod/xgboost'\n",
      "domain_id                     -> 'd-dech5fdx5938'\n",
      "initialized                   -> True\n",
      "input_s3_url                  -> 's3://sagemaker-us-east-1-949335012047/sm-admin-wo\n",
      "region                        -> 'us-east-1'\n",
      "sm_role                       -> 'arn:aws:iam::949335012047:role/sagemaker-admin-wo\n",
      "target_col                    -> 'y'\n",
      "test_s3_url                   -> 's3://sagemaker-us-east-1-949335012047/sm-admin-wo\n",
      "train_s3_url                  -> 's3://sagemaker-us-east-1-949335012047/sm-admin-wo\n",
      "validation_s3_url             -> 's3://sagemaker-us-east-1-949335012047/sm-admin-wo\n"
     ]
    }
   ],
   "source": [
    "%store -r \n",
    "\n",
    "%store\n",
    "\n",
    "try:\n",
    "    initialized\n",
    "except NameError:\n",
    "    print(\"++++++++++++++++++++++++++++++++++++++++++\")\n",
    "    print(\"[ERROR] YOU HAVE TO RUN 01-lab-01 notebook         \")\n",
    "    print(\"++++++++++++++++++++++++++++++++++++++++++\")"
   ]
  },
  {
   "cell_type": "code",
   "execution_count": 11,
   "id": "1d354f0d-d782-45b5-b950-ef86cab77a74",
   "metadata": {},
   "outputs": [],
   "source": [
    "# Get some variables you need to interact with SageMaker service\n",
    "boto_session = boto3.Session()\n",
    "region = boto_session.region_name\n",
    "bucket_name = sagemaker.Session().default_bucket()\n",
    "bucket_prefix = \"sm-admin-workshop/xgboost\"  \n",
    "sm_session = sagemaker.Session()\n",
    "sm_client = boto_session.client(\"sagemaker\")\n",
    "ssm = boto3.client(\"ssm\")\n",
    "sm_role = sagemaker.get_execution_role()"
   ]
  },
  {
   "cell_type": "markdown",
   "id": "7899928b-0b57-4633-ab50-7e1bbe260ea9",
   "metadata": {},
   "source": [
    "## Data protection"
   ]
  },
  {
   "cell_type": "markdown",
   "id": "e17a22aa-7a39-46b6-9b73-2fb581a4fd91",
   "metadata": {},
   "source": [
    "### Enforce encryption of input data\n",
    "Follow the instructions in the workshop lab 2.\n",
    "Add the `Deny` inline policy to the user profile execution role using the `ebs_key_arn` you retrieve in the following code cells."
   ]
  },
  {
   "cell_type": "code",
   "execution_count": 30,
   "id": "5e31af4f-cbcd-41f9-83b0-7a291059d93c",
   "metadata": {
    "tags": []
   },
   "outputs": [
    {
     "data": {
      "text/plain": [
       "('949335012047', 'us-east-1')"
      ]
     },
     "execution_count": 30,
     "metadata": {},
     "output_type": "execute_result"
    }
   ],
   "source": [
    "# Account id and region\n",
    "account_id = boto3.client(\"sts\").get_caller_identity()[\"Account\"]\n",
    "region = boto3.Session().region_name\n",
    "\n",
    "account_id, region"
   ]
  },
  {
   "cell_type": "code",
   "execution_count": 31,
   "id": "657b62fa-6d29-46e6-b7c8-9f872231cde0",
   "metadata": {
    "tags": []
   },
   "outputs": [
    {
     "data": {
      "text/plain": [
       "('sg-094cc28a340257059',\n",
       " 'subnet-0dbfb5fab7b6ae14e,subnet-0324af06a736e9404',\n",
       " 'arn:aws:kms:us-east-1:949335012047:key/11e91a97-d3d6-4089-a426-a8354a453965')"
      ]
     },
     "execution_count": 31,
     "metadata": {},
     "output_type": "execute_result"
    }
   ],
   "source": [
    "security_group_ids = ssm.get_parameter(Name=f\"sagemaker-admin-workshop-{region}-{account_id}-sagemaker-sg-ids\")[\"Parameter\"][\"Value\"]\n",
    "private_subnet_ids = ssm.get_parameter(Name=f\"sagemaker-admin-workshop-{region}-{account_id}-private-subnet-ids\")[\"Parameter\"][\"Value\"]\n",
    "ebs_key_arn = ssm.get_parameter(Name=f\"sagemaker-admin-workshop-{region}-{account_id}-kms-ebs-key-arn\")[\"Parameter\"][\"Value\"]\n",
    "\n",
    "security_group_ids, private_subnet_ids, ebs_key_arn"
   ]
  },
  {
   "cell_type": "markdown",
   "id": "ac514167-aeb5-4669-9709-1946456e89f6",
   "metadata": {},
   "source": [
    "Now attach the inline policy which enforce usage of the volume KMS key with `ebs_key_arn`."
   ]
  },
  {
   "cell_type": "code",
   "execution_count": 20,
   "id": "76502ff9-32fe-4064-be1b-1bbc95eaab37",
   "metadata": {
    "tags": []
   },
   "outputs": [],
   "source": [
    "# Construct the NetworkConfig with the values for your environment\n",
    "network_config = NetworkConfig(\n",
    "        enable_network_isolation=False, \n",
    "        security_group_ids=security_group_ids.split(','),\n",
    "        subnets=private_subnet_ids.split(','),\n",
    "        encrypt_inter_container_traffic=True)"
   ]
  },
  {
   "cell_type": "code",
   "execution_count": 21,
   "id": "15ef5c8e-8549-4055-88eb-7c2b1bbf0f5d",
   "metadata": {
    "tags": []
   },
   "outputs": [],
   "source": [
    "framework_version = \"0.23-1\"\n",
    "processing_instance_type = \"ml.m5.large\"\n",
    "processing_instance_count = 1"
   ]
  },
  {
   "cell_type": "code",
   "execution_count": 22,
   "id": "e7edcd94-2d0d-43da-9ff7-4dbba595a6a6",
   "metadata": {
    "tags": []
   },
   "outputs": [],
   "source": [
    "# Define processing inputs and outputs\n",
    "processing_inputs = [\n",
    "        ProcessingInput(\n",
    "            source=input_s3_url, \n",
    "            destination=\"/opt/ml/processing/input\",\n",
    "            s3_input_mode=\"File\",\n",
    "            s3_data_distribution_type=\"ShardedByS3Key\"\n",
    "        )\n",
    "]\n",
    "\n",
    "processing_outputs = [\n",
    "        ProcessingOutput(\n",
    "            output_name=\"train_data\", \n",
    "            source=\"/opt/ml/processing/output/train\",\n",
    "            destination=train_s3_url,\n",
    "        ),\n",
    "        ProcessingOutput(\n",
    "            output_name=\"validation_data\", \n",
    "            source=\"/opt/ml/processing/output/validation\", \n",
    "            destination=validation_s3_url\n",
    "        ),\n",
    "        ProcessingOutput(\n",
    "            output_name=\"test_data\", \n",
    "            source=\"/opt/ml/processing/output/test\", \n",
    "            destination=test_s3_url\n",
    "        ),\n",
    "]"
   ]
  },
  {
   "cell_type": "markdown",
   "id": "90d277e5-cd02-4d82-bc18-767177a2f27d",
   "metadata": {},
   "source": [
    "Create a processor without volume encryption."
   ]
  },
  {
   "cell_type": "code",
   "execution_count": 32,
   "id": "9573ddc3-3a83-4450-a673-e516b550619b",
   "metadata": {
    "tags": []
   },
   "outputs": [
    {
     "name": "stderr",
     "output_type": "stream",
     "text": [
      "INFO:sagemaker.image_uris:Defaulting to only available Python version: py3\n"
     ]
    }
   ],
   "source": [
    "# Create a processor\n",
    "sklearn_processor = SKLearnProcessor(\n",
    "    framework_version=framework_version,\n",
    "    role=sm_role,\n",
    "    instance_type=processing_instance_type,\n",
    "    instance_count=processing_instance_count, \n",
    "    base_job_name='sm-admin-workshop-processing',\n",
    "    sagemaker_session=sm_session,\n",
    "    network_config=network_config,\n",
    "#    volume_kms_key = ebs_key_arn\n",
    ")"
   ]
  },
  {
   "cell_type": "markdown",
   "id": "fa4acf24-02ef-4033-859b-5c79fd7b99eb",
   "metadata": {},
   "source": [
    "This run will fail because the execution role policy requires usage of the designated volume key, which wasn't provided."
   ]
  },
  {
   "cell_type": "code",
   "execution_count": null,
   "id": "04065974-0ee4-4e02-a88a-096ea4d6ce68",
   "metadata": {
    "tags": []
   },
   "outputs": [],
   "source": [
    "# Start the processing job\n",
    "sklearn_processor.run(\n",
    "        inputs=processing_inputs,\n",
    "        outputs=processing_outputs,\n",
    "        code='preprocessing.py',\n",
    "        wait=True,\n",
    ")"
   ]
  },
  {
   "cell_type": "markdown",
   "id": "0ef66edc-1b9d-4d96-b54d-de03de8eecee",
   "metadata": {},
   "source": [
    "Create a new processor with the intended value of `volume_kms_key` and run the processing job."
   ]
  },
  {
   "cell_type": "code",
   "execution_count": 35,
   "id": "e3025a41-4626-4945-9a61-a4c2c33e27e3",
   "metadata": {
    "tags": []
   },
   "outputs": [
    {
     "name": "stderr",
     "output_type": "stream",
     "text": [
      "INFO:sagemaker.image_uris:Defaulting to only available Python version: py3\n"
     ]
    }
   ],
   "source": [
    "# Create a processor\n",
    "sklearn_processor = SKLearnProcessor(\n",
    "    framework_version=framework_version,\n",
    "    role=sm_role,\n",
    "    instance_type=processing_instance_type,\n",
    "    instance_count=processing_instance_count, \n",
    "    base_job_name='sm-admin-workshop-processing',\n",
    "    sagemaker_session=sm_session,\n",
    "    network_config=network_config,\n",
    "    volume_kms_key = ebs_key_arn\n",
    ")"
   ]
  },
  {
   "cell_type": "code",
   "execution_count": null,
   "id": "17061889-9e16-449f-9988-cb247a085b1a",
   "metadata": {},
   "outputs": [],
   "source": [
    "# This call wil succeed and the processing job will finish\n",
    "sklearn_processor.run(\n",
    "        inputs=processing_inputs,\n",
    "        outputs=processing_outputs,\n",
    "        code='preprocessing.py',\n",
    "        wait=True,\n",
    ")"
   ]
  },
  {
   "cell_type": "markdown",
   "id": "cdbdbfbf-aac5-40a8-b8bd-628527b7a33e",
   "metadata": {},
   "source": [
    "## Data access control"
   ]
  },
  {
   "cell_type": "code",
   "execution_count": null,
   "id": "9b5ec143-13ef-4de9-a977-ee5314b975c9",
   "metadata": {},
   "outputs": [],
   "source": []
  },
  {
   "cell_type": "code",
   "execution_count": null,
   "id": "b9af671b-649f-4151-bd77-6eb9bc94c926",
   "metadata": {},
   "outputs": [],
   "source": []
  },
  {
   "cell_type": "markdown",
   "id": "85799a4c-a645-4780-a806-27084af3e607",
   "metadata": {},
   "source": [
    "## Data perimeter"
   ]
  },
  {
   "cell_type": "code",
   "execution_count": 36,
   "id": "e2bdc656-34ef-4dfc-95de-1488d8212963",
   "metadata": {
    "tags": []
   },
   "outputs": [
    {
     "data": {
      "text/plain": [
       "'sagemaker-us-east-1-949335012047'"
      ]
     },
     "execution_count": 36,
     "metadata": {},
     "output_type": "execute_result"
    }
   ],
   "source": [
    "bucket_name = sagemaker.Session().default_bucket()\n",
    "bucket_name"
   ]
  },
  {
   "cell_type": "code",
   "execution_count": 39,
   "id": "5625be1f-528a-4a1d-9c9a-50298ad7a639",
   "metadata": {
    "tags": []
   },
   "outputs": [
    {
     "data": {
      "text/plain": [
       "'vpce-09ea45d1cda545dbc'"
      ]
     },
     "execution_count": 39,
     "metadata": {},
     "output_type": "execute_result"
    }
   ],
   "source": [
    "s3_vpc_id = ssm.get_parameter(Name=f\"sagemaker-admin-workshop-{region}-{account_id}-s3-vpce-id\")[\"Parameter\"][\"Value\"]\n",
    "\n",
    "s3_vpc_id"
   ]
  },
  {
   "cell_type": "code",
   "execution_count": 49,
   "id": "6f581e14-34e1-4ca5-8a49-493688cf253a",
   "metadata": {
    "tags": []
   },
   "outputs": [
    {
     "name": "stdout",
     "output_type": "stream",
     "text": [
      "                           PRE from-idea-to-prod-processing-2023-04-10-12-10-14-429/\n",
      "                           PRE from-idea-to-prod-processing-2023-04-10-12-11-21-460/\n",
      "                           PRE from-idea-to-prod-processing-2023-04-10-12-13-11-784/\n",
      "                           PRE from-idea-to-prod-processing-2023-04-10-12-14-05-826/\n",
      "                           PRE from-idea-to-prod-processing-2023-04-10-12-15-04-891/\n",
      "                           PRE from-idea-to-prod-processing-2023-04-10-12-49-20-993/\n",
      "                           PRE from-idea-to-prod-processing-2023-04-10-12-50-33-331/\n",
      "                           PRE from-idea-to-prod-processing-2023-04-10-12-52-12-199/\n",
      "                           PRE from-idea-to-prod-processing-2023-04-10-12-52-20-600/\n",
      "                           PRE from-idea-to-prod-processing-2023-04-10-12-52-26-829/\n",
      "                           PRE from-idea-to-prod-processing-2023-04-10-12-58-04-089/\n",
      "                           PRE from-idea-to-prod-processing-2023-04-10-12-58-12-400/\n",
      "                           PRE from-idea-to-prod-processing-2023-04-10-12-58-19-234/\n",
      "                           PRE from-idea-to-prod-processing-2023-04-10-12-59-33-789/\n",
      "                           PRE from-idea-to-prod-processing-2023-04-10-13-01-23-963/\n",
      "                           PRE sm-admin-workshop-processing-2023-04-10-13-07-49-513/\n",
      "                           PRE sm-admin-workshop-processing-2023-04-10-20-18-26-698/\n",
      "                           PRE sm-admin-workshop-processing-2023-04-11-10-41-00-941/\n",
      "                           PRE sm-admin-workshop-processing-2023-04-11-10-46-58-500/\n",
      "                           PRE sm-admin-workshop-processing-2023-04-11-11-00-03-076/\n",
      "                           PRE sm-admin-workshop-processing-2023-04-11-11-01-05-042/\n",
      "                           PRE sm-admin-workshop-processing-2023-04-11-11-08-27-638/\n",
      "                           PRE sm-admin-workshop-processing-2023-04-11-18-56-19-880/\n",
      "                           PRE sm-admin-workshop-processing-2023-04-11-18-57-08-278/\n",
      "                           PRE sm-admin-workshop-processing-2023-04-11-20-01-26-561/\n",
      "                           PRE sm-admin-workshop-processing-2023-04-11-20-07-59-668/\n",
      "                           PRE sm-admin-workshop/\n"
     ]
    }
   ],
   "source": [
    "!aws s3 ls s3://sagemaker-us-east-1-949335012047"
   ]
  },
  {
   "cell_type": "code",
   "execution_count": 51,
   "id": "f304ad72-b7f9-4b07-b5f8-84217148da91",
   "metadata": {
    "tags": []
   },
   "outputs": [
    {
     "name": "stdout",
     "output_type": "stream",
     "text": [
      "                           PRE PreprocessData-e5d4c2b08e616c264c9dc5053871519a/\n",
      "                           PRE from-idea-to-prod-processing-2022-09-28-10-08-57-912/\n"
     ]
    }
   ],
   "source": [
    "!aws s3 ls s3://sagemaker-eu-central-1-949335012047"
   ]
  },
  {
   "cell_type": "code",
   "execution_count": null,
   "id": "e64d8c0f-ab11-4ef4-a7f1-90e13f1dd855",
   "metadata": {},
   "outputs": [],
   "source": []
  },
  {
   "cell_type": "code",
   "execution_count": null,
   "id": "6f7b1bcd-33e8-49ca-a3cc-73972231d87e",
   "metadata": {},
   "outputs": [],
   "source": []
  },
  {
   "cell_type": "markdown",
   "id": "59435cfc-9e95-4538-9c27-31ab982c1efb",
   "metadata": {},
   "source": [
    "## Resource isolation using tags"
   ]
  },
  {
   "cell_type": "code",
   "execution_count": null,
   "id": "8d11eaf6-5cbb-4785-b704-273526420b50",
   "metadata": {},
   "outputs": [],
   "source": []
  },
  {
   "cell_type": "code",
   "execution_count": null,
   "id": "e784e403-cdd9-4c29-82d8-0cf03fba18b0",
   "metadata": {},
   "outputs": [],
   "source": []
  },
  {
   "cell_type": "markdown",
   "id": "cb51d65a-abb5-4f6b-b560-3f09153c54ff",
   "metadata": {},
   "source": [
    "## Shutdown kernel"
   ]
  },
  {
   "cell_type": "code",
   "execution_count": null,
   "id": "e9831a69-4795-4c28-b0e2-6b5791e819f1",
   "metadata": {},
   "outputs": [],
   "source": [
    "%%html\n",
    "\n",
    "<p><b>Shutting down your kernel for this notebook to release resources.</b></p>\n",
    "<button class=\"sm-command-button\" data-commandlinker-command=\"kernelmenu:shutdown\" style=\"display:none;\">Shutdown Kernel</button>\n",
    "        \n",
    "<script>\n",
    "try {\n",
    "    els = document.getElementsByClassName(\"sm-command-button\");\n",
    "    els[0].click();\n",
    "}\n",
    "catch(err) {\n",
    "    // NoOp\n",
    "}    \n",
    "</script>"
   ]
  }
 ],
 "metadata": {
  "availableInstances": [
   {
    "_defaultOrder": 0,
    "_isFastLaunch": true,
    "category": "General purpose",
    "gpuNum": 0,
    "hideHardwareSpecs": false,
    "memoryGiB": 4,
    "name": "ml.t3.medium",
    "vcpuNum": 2
   },
   {
    "_defaultOrder": 1,
    "_isFastLaunch": false,
    "category": "General purpose",
    "gpuNum": 0,
    "hideHardwareSpecs": false,
    "memoryGiB": 8,
    "name": "ml.t3.large",
    "vcpuNum": 2
   },
   {
    "_defaultOrder": 2,
    "_isFastLaunch": false,
    "category": "General purpose",
    "gpuNum": 0,
    "hideHardwareSpecs": false,
    "memoryGiB": 16,
    "name": "ml.t3.xlarge",
    "vcpuNum": 4
   },
   {
    "_defaultOrder": 3,
    "_isFastLaunch": false,
    "category": "General purpose",
    "gpuNum": 0,
    "hideHardwareSpecs": false,
    "memoryGiB": 32,
    "name": "ml.t3.2xlarge",
    "vcpuNum": 8
   },
   {
    "_defaultOrder": 4,
    "_isFastLaunch": true,
    "category": "General purpose",
    "gpuNum": 0,
    "hideHardwareSpecs": false,
    "memoryGiB": 8,
    "name": "ml.m5.large",
    "vcpuNum": 2
   },
   {
    "_defaultOrder": 5,
    "_isFastLaunch": false,
    "category": "General purpose",
    "gpuNum": 0,
    "hideHardwareSpecs": false,
    "memoryGiB": 16,
    "name": "ml.m5.xlarge",
    "vcpuNum": 4
   },
   {
    "_defaultOrder": 6,
    "_isFastLaunch": false,
    "category": "General purpose",
    "gpuNum": 0,
    "hideHardwareSpecs": false,
    "memoryGiB": 32,
    "name": "ml.m5.2xlarge",
    "vcpuNum": 8
   },
   {
    "_defaultOrder": 7,
    "_isFastLaunch": false,
    "category": "General purpose",
    "gpuNum": 0,
    "hideHardwareSpecs": false,
    "memoryGiB": 64,
    "name": "ml.m5.4xlarge",
    "vcpuNum": 16
   },
   {
    "_defaultOrder": 8,
    "_isFastLaunch": false,
    "category": "General purpose",
    "gpuNum": 0,
    "hideHardwareSpecs": false,
    "memoryGiB": 128,
    "name": "ml.m5.8xlarge",
    "vcpuNum": 32
   },
   {
    "_defaultOrder": 9,
    "_isFastLaunch": false,
    "category": "General purpose",
    "gpuNum": 0,
    "hideHardwareSpecs": false,
    "memoryGiB": 192,
    "name": "ml.m5.12xlarge",
    "vcpuNum": 48
   },
   {
    "_defaultOrder": 10,
    "_isFastLaunch": false,
    "category": "General purpose",
    "gpuNum": 0,
    "hideHardwareSpecs": false,
    "memoryGiB": 256,
    "name": "ml.m5.16xlarge",
    "vcpuNum": 64
   },
   {
    "_defaultOrder": 11,
    "_isFastLaunch": false,
    "category": "General purpose",
    "gpuNum": 0,
    "hideHardwareSpecs": false,
    "memoryGiB": 384,
    "name": "ml.m5.24xlarge",
    "vcpuNum": 96
   },
   {
    "_defaultOrder": 12,
    "_isFastLaunch": false,
    "category": "General purpose",
    "gpuNum": 0,
    "hideHardwareSpecs": false,
    "memoryGiB": 8,
    "name": "ml.m5d.large",
    "vcpuNum": 2
   },
   {
    "_defaultOrder": 13,
    "_isFastLaunch": false,
    "category": "General purpose",
    "gpuNum": 0,
    "hideHardwareSpecs": false,
    "memoryGiB": 16,
    "name": "ml.m5d.xlarge",
    "vcpuNum": 4
   },
   {
    "_defaultOrder": 14,
    "_isFastLaunch": false,
    "category": "General purpose",
    "gpuNum": 0,
    "hideHardwareSpecs": false,
    "memoryGiB": 32,
    "name": "ml.m5d.2xlarge",
    "vcpuNum": 8
   },
   {
    "_defaultOrder": 15,
    "_isFastLaunch": false,
    "category": "General purpose",
    "gpuNum": 0,
    "hideHardwareSpecs": false,
    "memoryGiB": 64,
    "name": "ml.m5d.4xlarge",
    "vcpuNum": 16
   },
   {
    "_defaultOrder": 16,
    "_isFastLaunch": false,
    "category": "General purpose",
    "gpuNum": 0,
    "hideHardwareSpecs": false,
    "memoryGiB": 128,
    "name": "ml.m5d.8xlarge",
    "vcpuNum": 32
   },
   {
    "_defaultOrder": 17,
    "_isFastLaunch": false,
    "category": "General purpose",
    "gpuNum": 0,
    "hideHardwareSpecs": false,
    "memoryGiB": 192,
    "name": "ml.m5d.12xlarge",
    "vcpuNum": 48
   },
   {
    "_defaultOrder": 18,
    "_isFastLaunch": false,
    "category": "General purpose",
    "gpuNum": 0,
    "hideHardwareSpecs": false,
    "memoryGiB": 256,
    "name": "ml.m5d.16xlarge",
    "vcpuNum": 64
   },
   {
    "_defaultOrder": 19,
    "_isFastLaunch": false,
    "category": "General purpose",
    "gpuNum": 0,
    "hideHardwareSpecs": false,
    "memoryGiB": 384,
    "name": "ml.m5d.24xlarge",
    "vcpuNum": 96
   },
   {
    "_defaultOrder": 20,
    "_isFastLaunch": false,
    "category": "General purpose",
    "gpuNum": 0,
    "hideHardwareSpecs": true,
    "memoryGiB": 0,
    "name": "ml.geospatial.interactive",
    "supportedImageNames": [
     "sagemaker-geospatial-v1-0"
    ],
    "vcpuNum": 0
   },
   {
    "_defaultOrder": 21,
    "_isFastLaunch": true,
    "category": "Compute optimized",
    "gpuNum": 0,
    "hideHardwareSpecs": false,
    "memoryGiB": 4,
    "name": "ml.c5.large",
    "vcpuNum": 2
   },
   {
    "_defaultOrder": 22,
    "_isFastLaunch": false,
    "category": "Compute optimized",
    "gpuNum": 0,
    "hideHardwareSpecs": false,
    "memoryGiB": 8,
    "name": "ml.c5.xlarge",
    "vcpuNum": 4
   },
   {
    "_defaultOrder": 23,
    "_isFastLaunch": false,
    "category": "Compute optimized",
    "gpuNum": 0,
    "hideHardwareSpecs": false,
    "memoryGiB": 16,
    "name": "ml.c5.2xlarge",
    "vcpuNum": 8
   },
   {
    "_defaultOrder": 24,
    "_isFastLaunch": false,
    "category": "Compute optimized",
    "gpuNum": 0,
    "hideHardwareSpecs": false,
    "memoryGiB": 32,
    "name": "ml.c5.4xlarge",
    "vcpuNum": 16
   },
   {
    "_defaultOrder": 25,
    "_isFastLaunch": false,
    "category": "Compute optimized",
    "gpuNum": 0,
    "hideHardwareSpecs": false,
    "memoryGiB": 72,
    "name": "ml.c5.9xlarge",
    "vcpuNum": 36
   },
   {
    "_defaultOrder": 26,
    "_isFastLaunch": false,
    "category": "Compute optimized",
    "gpuNum": 0,
    "hideHardwareSpecs": false,
    "memoryGiB": 96,
    "name": "ml.c5.12xlarge",
    "vcpuNum": 48
   },
   {
    "_defaultOrder": 27,
    "_isFastLaunch": false,
    "category": "Compute optimized",
    "gpuNum": 0,
    "hideHardwareSpecs": false,
    "memoryGiB": 144,
    "name": "ml.c5.18xlarge",
    "vcpuNum": 72
   },
   {
    "_defaultOrder": 28,
    "_isFastLaunch": false,
    "category": "Compute optimized",
    "gpuNum": 0,
    "hideHardwareSpecs": false,
    "memoryGiB": 192,
    "name": "ml.c5.24xlarge",
    "vcpuNum": 96
   },
   {
    "_defaultOrder": 29,
    "_isFastLaunch": true,
    "category": "Accelerated computing",
    "gpuNum": 1,
    "hideHardwareSpecs": false,
    "memoryGiB": 16,
    "name": "ml.g4dn.xlarge",
    "vcpuNum": 4
   },
   {
    "_defaultOrder": 30,
    "_isFastLaunch": false,
    "category": "Accelerated computing",
    "gpuNum": 1,
    "hideHardwareSpecs": false,
    "memoryGiB": 32,
    "name": "ml.g4dn.2xlarge",
    "vcpuNum": 8
   },
   {
    "_defaultOrder": 31,
    "_isFastLaunch": false,
    "category": "Accelerated computing",
    "gpuNum": 1,
    "hideHardwareSpecs": false,
    "memoryGiB": 64,
    "name": "ml.g4dn.4xlarge",
    "vcpuNum": 16
   },
   {
    "_defaultOrder": 32,
    "_isFastLaunch": false,
    "category": "Accelerated computing",
    "gpuNum": 1,
    "hideHardwareSpecs": false,
    "memoryGiB": 128,
    "name": "ml.g4dn.8xlarge",
    "vcpuNum": 32
   },
   {
    "_defaultOrder": 33,
    "_isFastLaunch": false,
    "category": "Accelerated computing",
    "gpuNum": 4,
    "hideHardwareSpecs": false,
    "memoryGiB": 192,
    "name": "ml.g4dn.12xlarge",
    "vcpuNum": 48
   },
   {
    "_defaultOrder": 34,
    "_isFastLaunch": false,
    "category": "Accelerated computing",
    "gpuNum": 1,
    "hideHardwareSpecs": false,
    "memoryGiB": 256,
    "name": "ml.g4dn.16xlarge",
    "vcpuNum": 64
   },
   {
    "_defaultOrder": 35,
    "_isFastLaunch": false,
    "category": "Accelerated computing",
    "gpuNum": 1,
    "hideHardwareSpecs": false,
    "memoryGiB": 61,
    "name": "ml.p3.2xlarge",
    "vcpuNum": 8
   },
   {
    "_defaultOrder": 36,
    "_isFastLaunch": false,
    "category": "Accelerated computing",
    "gpuNum": 4,
    "hideHardwareSpecs": false,
    "memoryGiB": 244,
    "name": "ml.p3.8xlarge",
    "vcpuNum": 32
   },
   {
    "_defaultOrder": 37,
    "_isFastLaunch": false,
    "category": "Accelerated computing",
    "gpuNum": 8,
    "hideHardwareSpecs": false,
    "memoryGiB": 488,
    "name": "ml.p3.16xlarge",
    "vcpuNum": 64
   },
   {
    "_defaultOrder": 38,
    "_isFastLaunch": false,
    "category": "Accelerated computing",
    "gpuNum": 8,
    "hideHardwareSpecs": false,
    "memoryGiB": 768,
    "name": "ml.p3dn.24xlarge",
    "vcpuNum": 96
   },
   {
    "_defaultOrder": 39,
    "_isFastLaunch": false,
    "category": "Memory Optimized",
    "gpuNum": 0,
    "hideHardwareSpecs": false,
    "memoryGiB": 16,
    "name": "ml.r5.large",
    "vcpuNum": 2
   },
   {
    "_defaultOrder": 40,
    "_isFastLaunch": false,
    "category": "Memory Optimized",
    "gpuNum": 0,
    "hideHardwareSpecs": false,
    "memoryGiB": 32,
    "name": "ml.r5.xlarge",
    "vcpuNum": 4
   },
   {
    "_defaultOrder": 41,
    "_isFastLaunch": false,
    "category": "Memory Optimized",
    "gpuNum": 0,
    "hideHardwareSpecs": false,
    "memoryGiB": 64,
    "name": "ml.r5.2xlarge",
    "vcpuNum": 8
   },
   {
    "_defaultOrder": 42,
    "_isFastLaunch": false,
    "category": "Memory Optimized",
    "gpuNum": 0,
    "hideHardwareSpecs": false,
    "memoryGiB": 128,
    "name": "ml.r5.4xlarge",
    "vcpuNum": 16
   },
   {
    "_defaultOrder": 43,
    "_isFastLaunch": false,
    "category": "Memory Optimized",
    "gpuNum": 0,
    "hideHardwareSpecs": false,
    "memoryGiB": 256,
    "name": "ml.r5.8xlarge",
    "vcpuNum": 32
   },
   {
    "_defaultOrder": 44,
    "_isFastLaunch": false,
    "category": "Memory Optimized",
    "gpuNum": 0,
    "hideHardwareSpecs": false,
    "memoryGiB": 384,
    "name": "ml.r5.12xlarge",
    "vcpuNum": 48
   },
   {
    "_defaultOrder": 45,
    "_isFastLaunch": false,
    "category": "Memory Optimized",
    "gpuNum": 0,
    "hideHardwareSpecs": false,
    "memoryGiB": 512,
    "name": "ml.r5.16xlarge",
    "vcpuNum": 64
   },
   {
    "_defaultOrder": 46,
    "_isFastLaunch": false,
    "category": "Memory Optimized",
    "gpuNum": 0,
    "hideHardwareSpecs": false,
    "memoryGiB": 768,
    "name": "ml.r5.24xlarge",
    "vcpuNum": 96
   },
   {
    "_defaultOrder": 47,
    "_isFastLaunch": false,
    "category": "Accelerated computing",
    "gpuNum": 1,
    "hideHardwareSpecs": false,
    "memoryGiB": 16,
    "name": "ml.g5.xlarge",
    "vcpuNum": 4
   },
   {
    "_defaultOrder": 48,
    "_isFastLaunch": false,
    "category": "Accelerated computing",
    "gpuNum": 1,
    "hideHardwareSpecs": false,
    "memoryGiB": 32,
    "name": "ml.g5.2xlarge",
    "vcpuNum": 8
   },
   {
    "_defaultOrder": 49,
    "_isFastLaunch": false,
    "category": "Accelerated computing",
    "gpuNum": 1,
    "hideHardwareSpecs": false,
    "memoryGiB": 64,
    "name": "ml.g5.4xlarge",
    "vcpuNum": 16
   },
   {
    "_defaultOrder": 50,
    "_isFastLaunch": false,
    "category": "Accelerated computing",
    "gpuNum": 1,
    "hideHardwareSpecs": false,
    "memoryGiB": 128,
    "name": "ml.g5.8xlarge",
    "vcpuNum": 32
   },
   {
    "_defaultOrder": 51,
    "_isFastLaunch": false,
    "category": "Accelerated computing",
    "gpuNum": 1,
    "hideHardwareSpecs": false,
    "memoryGiB": 256,
    "name": "ml.g5.16xlarge",
    "vcpuNum": 64
   },
   {
    "_defaultOrder": 52,
    "_isFastLaunch": false,
    "category": "Accelerated computing",
    "gpuNum": 4,
    "hideHardwareSpecs": false,
    "memoryGiB": 192,
    "name": "ml.g5.12xlarge",
    "vcpuNum": 48
   },
   {
    "_defaultOrder": 53,
    "_isFastLaunch": false,
    "category": "Accelerated computing",
    "gpuNum": 4,
    "hideHardwareSpecs": false,
    "memoryGiB": 384,
    "name": "ml.g5.24xlarge",
    "vcpuNum": 96
   },
   {
    "_defaultOrder": 54,
    "_isFastLaunch": false,
    "category": "Accelerated computing",
    "gpuNum": 8,
    "hideHardwareSpecs": false,
    "memoryGiB": 768,
    "name": "ml.g5.48xlarge",
    "vcpuNum": 192
   }
  ],
  "instance_type": "ml.t3.medium",
  "kernelspec": {
   "display_name": "Python 3 (Data Science)",
   "language": "python",
   "name": "python3__SAGEMAKER_INTERNAL__arn:aws:sagemaker:us-east-1:081325390199:image/datascience-1.0"
  },
  "language_info": {
   "codemirror_mode": {
    "name": "ipython",
    "version": 3
   },
   "file_extension": ".py",
   "mimetype": "text/x-python",
   "name": "python",
   "nbconvert_exporter": "python",
   "pygments_lexer": "ipython3",
   "version": "3.7.10"
  }
 },
 "nbformat": 4,
 "nbformat_minor": 5
}
