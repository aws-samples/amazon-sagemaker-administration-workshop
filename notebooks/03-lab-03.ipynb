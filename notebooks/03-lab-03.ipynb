{
 "cells": [
  {
   "cell_type": "markdown",
   "id": "d71dac3e-ffbe-443d-a768-f2bb552f1966",
   "metadata": {
    "tags": []
   },
   "source": [
    "# Amazon SageMaker administration and security workshop: Lab 3\n",
    "\n",
    "This notebook contains hands-on exercises for the workshop **Amazon SageMaker administration and security** – Lab 3."
   ]
  },
  {
   "cell_type": "markdown",
   "id": "f2874db4-43c1-4098-b76d-4aff47b86d3b",
   "metadata": {},
   "source": [
    "## Import packages and load variables"
   ]
  },
  {
   "cell_type": "code",
   "execution_count": null,
   "id": "ce503d65-fc1d-486b-a9e4-f673f9d5994e",
   "metadata": {
    "tags": []
   },
   "outputs": [],
   "source": [
    "import time\n",
    "import os\n",
    "import json\n",
    "import boto3\n",
    "import numpy as np  \n",
    "import pandas as pd \n",
    "import sagemaker\n",
    "from sagemaker.network import NetworkConfig\n",
    "from sagemaker.sklearn.processing import SKLearnProcessor\n",
    "from sagemaker.processing import ProcessingInput, ProcessingOutput\n",
    "from workshop_utils.quiz_questions import *\n",
    "\n",
    "sagemaker.__version__"
   ]
  },
  {
   "cell_type": "code",
   "execution_count": null,
   "id": "51ad3286-24e7-403b-b49d-124db699378c",
   "metadata": {
    "tags": []
   },
   "outputs": [],
   "source": [
    "%store -r \n",
    "\n",
    "%store\n",
    "\n",
    "try:\n",
    "    initialized\n",
    "except NameError:\n",
    "    print(\"++++++++++++++++++++++++++++++++++++++++++\")\n",
    "    print(\"[ERROR] YOU HAVE TO RUN 01-lab-01 notebook         \")\n",
    "    print(\"++++++++++++++++++++++++++++++++++++++++++\")"
   ]
  },
  {
   "cell_type": "code",
   "execution_count": null,
   "id": "7ea4f437-9b38-4583-ac9f-c69296b70d4e",
   "metadata": {
    "tags": []
   },
   "outputs": [],
   "source": [
    "# Get some variables you need to interact with SageMaker service\n",
    "boto_session = boto3.Session()\n",
    "region = boto_session.region_name\n",
    "bucket_name = sagemaker.Session().default_bucket()\n",
    "bucket_prefix = \"sm-admin-workshop/xgboost\"  \n",
    "sm_session = sagemaker.Session()\n",
    "sm_client = boto_session.client(\"sagemaker\")\n",
    "ssm = boto3.client(\"ssm\")\n",
    "sm_role = sagemaker.get_execution_role()"
   ]
  },
  {
   "cell_type": "markdown",
   "id": "005bad59-1f0e-4fe7-ad5f-de541672655f",
   "metadata": {},
   "source": [
    "## Logging and monitoring\n",
    "This section demostrates the foundational details about SageMaker log handling."
   ]
  },
  {
   "cell_type": "markdown",
   "id": "5378221a-5e1b-4060-b04b-e2af73cd2ae3",
   "metadata": {},
   "source": [
    "### SageMaker CloudWatch logs\n",
    "Refer to the Developer Guide documentation [Log Amazon SageMaker Events with Amazon CloudWatch](https://docs.aws.amazon.com/sagemaker/latest/dg/logging-cloudwatch.html) for basic facts about logging and managing SageMaker events with Amazon CloudWatch.\n",
    "The following code shows how to describe log groups, log streams, and retrieve log events using CloudWatch API and Python boto3."
   ]
  },
  {
   "cell_type": "code",
   "execution_count": null,
   "id": "d2bd4bc3-c3a9-4a34-a2a8-b248a4755429",
   "metadata": {
    "tags": []
   },
   "outputs": [],
   "source": [
    "logs = boto3.client(\"logs\")"
   ]
  },
  {
   "cell_type": "code",
   "execution_count": null,
   "id": "bfd9ff1a-cffe-4474-9ecf-2cfaad1ca9d1",
   "metadata": {
    "tags": []
   },
   "outputs": [],
   "source": [
    "# Use SageMaker log group prefix\n",
    "sagemaker_log_group_prefix = \"/aws/sagemaker\"\n",
    "studio_log_group = f\"{sagemaker_log_group_prefix}/studio\""
   ]
  },
  {
   "cell_type": "code",
   "execution_count": null,
   "id": "59f0c5c1-db82-4ebe-a704-cdb144611196",
   "metadata": {
    "tags": []
   },
   "outputs": [],
   "source": [
    "# Retrieve log groups with SageMaker events \n",
    "logs.describe_log_groups(\n",
    "    logGroupNamePrefix=sagemaker_log_group_prefix,\n",
    "    limit=10,\n",
    ")"
   ]
  },
  {
   "cell_type": "code",
   "execution_count": null,
   "id": "0cec56d1-1b80-4244-a15a-95182ad9c556",
   "metadata": {
    "tags": []
   },
   "outputs": [],
   "source": [
    "# Get some log streams from the Studio logs\n",
    "r = logs.describe_log_streams(\n",
    "    logGroupName=studio_log_group,\n",
    "    descending=True,\n",
    "    limit=3,\n",
    ")\n",
    "r"
   ]
  },
  {
   "cell_type": "code",
   "execution_count": null,
   "id": "2a90852f-db1b-433a-865a-b86e223e768c",
   "metadata": {
    "tags": []
   },
   "outputs": [],
   "source": [
    "# Get some events from the first log stream in the Studio log group\n",
    "logs.get_log_events(\n",
    "    logGroupName=studio_log_group,\n",
    "    logStreamName=r[\"logStreams\"][0][\"logStreamName\"],\n",
    "    limit=10,\n",
    ")"
   ]
  },
  {
   "cell_type": "markdown",
   "id": "6403e63b-48ab-4f5a-871d-1185cddc4f58",
   "metadata": {},
   "source": [
    "### Isolation of CloudWatch logs for multi-domain setup\n",
    "This section demonstrates how to use `DOMAIN-ID` and identity-based IAM permission policies to control access to CloudWatch events for own SageMaker domain only."
   ]
  },
  {
   "cell_type": "code",
   "execution_count": null,
   "id": "34a6bc59-188b-4157-8c33-1e192514bafb",
   "metadata": {
    "tags": []
   },
   "outputs": [],
   "source": [
    "# Get user profile name\n",
    "NOTEBOOK_METADATA_FILE = \"/opt/ml/metadata/resource-metadata.json\"\n",
    "\n",
    "# Check what profile you're currently in\n",
    "if os.path.exists(NOTEBOOK_METADATA_FILE):\n",
    "    with open(NOTEBOOK_METADATA_FILE, \"rb\") as f:\n",
    "        user_profile_name = json.loads(f.read())['UserProfileName']\n",
    "        print(f\"User profile: {user_profile_name}\")"
   ]
  },
  {
   "cell_type": "code",
   "execution_count": null,
   "id": "9eee6f41-4501-4ddc-94cd-91788eff9beb",
   "metadata": {
    "tags": []
   },
   "outputs": [],
   "source": [
    "domain_id, user_profile_name"
   ]
  },
  {
   "cell_type": "markdown",
   "id": "52d705eb-54be-474a-a573-0d7f3987c9d5",
   "metadata": {},
   "source": [
    "#### Access to log events without isolation\n",
    "The user profile execution role doesn't  have any restriction on accessing SageMaker log groups, streams, and events in CloudWatch.\n",
    "Run the following code cells and verify that you have access to all `/aws/sagemaker/` log groups and log streams within these groups."
   ]
  },
  {
   "cell_type": "code",
   "execution_count": null,
   "id": "cb4506a5-6ebd-4bb4-98a2-9d90e24a20ba",
   "metadata": {
    "tags": []
   },
   "outputs": [],
   "source": [
    "# Access to log groups with SageMaker events \n",
    "logs.describe_log_groups(\n",
    "    logGroupNamePrefix=sagemaker_log_group_prefix,\n",
    "    limit=10,\n",
    ")"
   ]
  },
  {
   "cell_type": "code",
   "execution_count": null,
   "id": "93c6b0ee-9dce-45c8-82ee-f6e0d3975d7b",
   "metadata": {
    "tags": []
   },
   "outputs": [],
   "source": [
    "# Access to log streams within Studio log group\n",
    "r = logs.describe_log_streams(\n",
    "    logGroupName=studio_log_group,\n",
    "    descending=True,\n",
    "    limit=3,\n",
    ")\n",
    "r"
   ]
  },
  {
   "cell_type": "code",
   "execution_count": null,
   "id": "4a137b11-9f9a-40d5-8a82-01285618d9c2",
   "metadata": {
    "tags": []
   },
   "outputs": [],
   "source": [
    "# Access to log events within any Studio log stream for any domain\n",
    "logs.get_log_events(\n",
    "    logGroupName=studio_log_group,\n",
    "    logStreamName=r[\"logStreams\"][0][\"logStreamName\"],\n",
    "    limit=10,\n",
    ")"
   ]
  },
  {
   "cell_type": "markdown",
   "id": "cede8be7-1784-43f2-8132-99218f3c99df",
   "metadata": {},
   "source": [
    "#### Access to log events with isolation\n",
    "Let's implement log access isolation based on the `DOMAIN-ID`. Navigate to the IAM console using the following link:"
   ]
  },
  {
   "cell_type": "code",
   "execution_count": null,
   "id": "d0ac181f-fbcc-4223-b349-035eeaab5bef",
   "metadata": {
    "tags": []
   },
   "outputs": [],
   "source": [
    "from IPython.core.display import display, HTML\n",
    "\n",
    "# Execute this cell to show the execution role IAM console link\n",
    "display(\n",
    "    HTML(\n",
    "        '<b>Add the log isolation policy to the execution role <a target=\"top\" href=\"https://us-east-1.console.aws.amazon.com/iamv2/home#/roles/details/{}?section=permissions\">AWS IAM console.</a></b>'.format(\n",
    "            sagemaker.get_execution_role().split(\"/\")[-1])\n",
    "    )\n",
    ")"
   ]
  },
  {
   "cell_type": "code",
   "execution_count": null,
   "id": "c6f56f7d-d999-4ac1-b883-9a2e3d1742ee",
   "metadata": {
    "tags": []
   },
   "outputs": [],
   "source": [
    "account_id, domain_id"
   ]
  },
  {
   "cell_type": "markdown",
   "id": "4a5edd02-f6eb-4bfb-b1e6-ceca9b8678fe",
   "metadata": {},
   "source": [
    "Add the folowing IAM inline permission policy to the user execution role:\n",
    "\n",
    "```json\n",
    "{\n",
    "    \"Version\": \"2012-10-17\",\n",
    "    \"Statement\": [\n",
    "        {\n",
    "            \"Sid\": \"DenyNotownedDomainLogs\",\n",
    "            \"Effect\": \"Deny\",\n",
    "            \"Action\": [\n",
    "                \"logs:GetLogEvents\"\n",
    "            ],\n",
    "            \"NotResource\": [\n",
    "                \"arn:aws:logs:*:<ACCOUNT-ID>:log-group:/aws/sagemaker/*:log-stream:<DOMAIN-ID>*\"\n",
    "            ]\n",
    "        }\n",
    "    ]\n",
    "}\n",
    "```\n",
    "\n",
    "Replace `<ACCOUNT-ID>` and `<DOMAIN-ID>` with their values.\n",
    "Save changes."
   ]
  },
  {
   "cell_type": "code",
   "execution_count": null,
   "id": "3d85eb49-c82d-4c34-8b32-576adceee994",
   "metadata": {
    "tags": []
   },
   "outputs": [],
   "source": [
    "# Now you don't have access to any log stream event from any other domain. The following call to `DescribeLogEvents` fails with AccessDenied exception\n",
    "logs.get_log_events(\n",
    "    logGroupName=studio_log_group,\n",
    "    logStreamName=r[\"logStreams\"][0][\"logStreamName\"],\n",
    "    limit=10,\n",
    ")"
   ]
  },
  {
   "cell_type": "markdown",
   "id": "b848a6a0-a9eb-4a97-aeae-4337f878c8b7",
   "metadata": {},
   "source": [
    "You can access only the log events in your domain-specific log stream."
   ]
  },
  {
   "cell_type": "code",
   "execution_count": null,
   "id": "f8b15565-9dcc-4ae4-9a0e-f8f16906b54e",
   "metadata": {
    "tags": []
   },
   "outputs": [],
   "source": [
    "studio_jupyter_server_log_stream = f\"{domain_id}/{user_profile_name}/JupyterServer/default\""
   ]
  },
  {
   "cell_type": "code",
   "execution_count": null,
   "id": "045fcb72-521a-43ce-ab4d-20bad36b4cce",
   "metadata": {
    "tags": []
   },
   "outputs": [],
   "source": [
    "logs.describe_log_streams(\n",
    "    logGroupName=studio_log_group,\n",
    "    logStreamNamePrefix=f\"{domain_id}/\",\n",
    "    descending=True,\n",
    "    limit=3,\n",
    ")"
   ]
  },
  {
   "cell_type": "code",
   "execution_count": null,
   "id": "dfe95187-e9d7-48bf-b7a2-650f5a15ef40",
   "metadata": {
    "tags": []
   },
   "outputs": [],
   "source": [
    "# Access only domain-specific log events and log streams\n",
    "logs.get_log_events(\n",
    "    logGroupName=studio_log_group,\n",
    "    logStreamName=studio_jupyter_server_log_stream,\n",
    "    limit=10,\n",
    ")"
   ]
  },
  {
   "cell_type": "markdown",
   "id": "b2c707e4-c728-458f-854b-55001b3da06c",
   "metadata": {},
   "source": [
    "#### Parametrize IAM policy with context keys\n",
    "You noticed that you hardcoded the value of `DOMAIN-ID` in the IAM policy. This solution is not very flexible and can be difficult to maintain. Let's parametrize the policy so it works with any domain id. \n",
    "You can use one of the [AWS global condition context keys](https://docs.aws.amazon.com/IAM/latest/UserGuide/reference_policies_condition-keys.html) - [`aws:PincipalTag`](https://docs.aws.amazon.com/IAM/latest/UserGuide/reference_policies_condition-keys.html#:~:text=aws%3APrincipalTag/tag%2Dkey).  You use this key to substitute the placeholder in the policy with the value of the tag attached to the principal making the request, in this case the user profile execution role.\n",
    "\n",
    "Update the inline permission policy for the user profile execution role using this context key:\n",
    "\n",
    "```json\n",
    "{\n",
    "\t\"Version\": \"2012-10-17\",\n",
    "\t\"Statement\": [\n",
    "\t\t{\n",
    "\t\t\t\"Sid\": \"DenyNotownedDomainLogs\",\n",
    "\t\t\t\"Effect\": \"Deny\",\n",
    "\t\t\t\"Action\": [\n",
    "\t\t\t\t\"logs:GetLogEvents\"\n",
    "\t\t\t],\n",
    "\t\t\t\"NotResource\": [\n",
    "\t\t\t\t\"arn:aws:logs:us-east-1:<ACCOUNT-ID>:log-group:/aws/sagemaker/*:log-stream:${aws:PrincipalTag/domain-id}*\"\n",
    "\t\t\t]\n",
    "\t\t}\n",
    "\t]\n",
    "}\n",
    "```\n",
    "\n",
    "Make sure you saved the changes to the policy in IAM console."
   ]
  },
  {
   "cell_type": "markdown",
   "id": "6668641f-32ea-436a-9994-88a65db19b1a",
   "metadata": {},
   "source": [
    "Now you need to add the `domain-id` tag to the user profile execution role. Copy the output of the next cell as the AWS CLI command and run it in the command terminal under the administrator role. Note, you cannot run this command in the Studio terminal, because the Studio terminal uses user profile execution role, which doesn't have `iam:TagRole` permission."
   ]
  },
  {
   "cell_type": "code",
   "execution_count": null,
   "id": "46d16697-5e96-4f29-ae69-19bb0a5c78de",
   "metadata": {
    "tags": []
   },
   "outputs": [],
   "source": [
    "print(f\"aws iam tag-role --role-name {sagemaker.get_execution_role().split('/')[-1]} --tags '{{\\\"Key\\\":\\\"domain-id\\\",\\\"Value\\\":\\\"{domain_id}\\\"}}'\")"
   ]
  },
  {
   "cell_type": "markdown",
   "id": "2d663655-65d4-4cda-8dca-7f6e315dbbd5",
   "metadata": {},
   "source": [
    "You can list the role tags with the `list-role-tag` AWS CLI command. Copy and paste the following cell output into the command terminal:"
   ]
  },
  {
   "cell_type": "code",
   "execution_count": null,
   "id": "435d67a5-ce9a-48c5-8c3a-7b2245c24c58",
   "metadata": {
    "tags": []
   },
   "outputs": [],
   "source": [
    "print(f\"aws iam list-role-tags --role-name {sagemaker.get_execution_role().split('/')[-1]}\")"
   ]
  },
  {
   "cell_type": "markdown",
   "id": "b282d0e3-7869-4e0e-b62c-58fb47293dd3",
   "metadata": {},
   "source": [
    "Verify that you have the access to the logs from the own domain:"
   ]
  },
  {
   "cell_type": "code",
   "execution_count": null,
   "id": "7686c9d7-2a41-4275-8277-d428226cc307",
   "metadata": {
    "tags": []
   },
   "outputs": [],
   "source": [
    "# Access only domain-specific log events and log streams\n",
    "logs.get_log_events(\n",
    "    logGroupName=studio_log_group,\n",
    "    logStreamName=studio_jupyter_server_log_stream,\n",
    "    limit=10,\n",
    ")"
   ]
  },
  {
   "cell_type": "markdown",
   "id": "2bec4895-a2cd-4ce1-a63d-4ad2911d38cf",
   "metadata": {},
   "source": [
    "### Logging with CloudTrail\n",
    "Follow the instructions in the workshop lab 3 - Step 1 - Logging with CloudTrail. \n",
    "You can run the following step to generate `DescribeDomain` API access log entires in the CloudTrail event history."
   ]
  },
  {
   "cell_type": "code",
   "execution_count": null,
   "id": "76f514fa-edaf-4241-b92d-106733aa097f",
   "metadata": {
    "tags": []
   },
   "outputs": [],
   "source": [
    "sm_client.describe_domain(DomainId=domain_id)"
   ]
  },
  {
   "cell_type": "markdown",
   "id": "08c2bd93-8716-46cd-a032-f473908038d1",
   "metadata": {
    "tags": []
   },
   "source": [
    "## Security controls"
   ]
  },
  {
   "cell_type": "markdown",
   "id": "369b6b6d-2503-4bff-9bfb-0ea8ee34ac51",
   "metadata": {},
   "source": [
    "### Preventive\n",
    "In this section you experiment with IAM policies and condition keys. Follow the instructions in the workshop lab 3 - Step 2."
   ]
  },
  {
   "cell_type": "code",
   "execution_count": null,
   "id": "d001831f-c791-4ff8-9599-b081bab2f331",
   "metadata": {
    "tags": []
   },
   "outputs": [],
   "source": [
    "# Account id and region\n",
    "account_id = boto3.client(\"sts\").get_caller_identity()[\"Account\"]\n",
    "region = boto3.Session().region_name\n",
    "\n",
    "account_id, region"
   ]
  },
  {
   "cell_type": "code",
   "execution_count": null,
   "id": "c0a86e20-b515-4d93-bc61-75d7dc614a37",
   "metadata": {
    "tags": []
   },
   "outputs": [],
   "source": [
    "security_group_ids = ssm.get_parameter(Name=f\"sagemaker-admin-workshop-{region}-{account_id}-sagemaker-sg-ids\")[\"Parameter\"][\"Value\"]\n",
    "private_subnet_ids = ssm.get_parameter(Name=f\"sagemaker-admin-workshop-{region}-{account_id}-private-subnet-ids\")[\"Parameter\"][\"Value\"]\n",
    "ebs_key_arn = ssm.get_parameter(Name=f\"sagemaker-admin-workshop-{region}-{account_id}-kms-ebs-key-arn\")[\"Parameter\"][\"Value\"]\n",
    "\n",
    "security_group_ids, private_subnet_ids, ebs_key_arn"
   ]
  },
  {
   "cell_type": "code",
   "execution_count": null,
   "id": "043c45b0-cee3-49c1-ad88-0f8107da009a",
   "metadata": {
    "tags": []
   },
   "outputs": [],
   "source": [
    "# Construct the NetworkConfig with the values for your environment\n",
    "network_config = NetworkConfig(\n",
    "        enable_network_isolation=False, \n",
    "        security_group_ids=security_group_ids.split(','),\n",
    "        subnets=private_subnet_ids.split(','),\n",
    "        encrypt_inter_container_traffic=True)"
   ]
  },
  {
   "cell_type": "code",
   "execution_count": null,
   "id": "faaaf02a-8862-44a7-814f-e312fcb83a35",
   "metadata": {
    "tags": []
   },
   "outputs": [],
   "source": [
    "framework_version = \"0.23-1\"\n",
    "processing_instance_type = \"ml.m5.large\"\n",
    "processing_instance_count = 1"
   ]
  },
  {
   "cell_type": "code",
   "execution_count": null,
   "id": "dbd8b6b0-ba8a-4e86-9d84-0a74b67fcb48",
   "metadata": {
    "tags": []
   },
   "outputs": [],
   "source": [
    "# Define processing inputs and outputs\n",
    "processing_inputs = [\n",
    "        ProcessingInput(\n",
    "            source=input_s3_url, \n",
    "            destination=\"/opt/ml/processing/input\",\n",
    "            s3_input_mode=\"File\",\n",
    "            s3_data_distribution_type=\"ShardedByS3Key\"\n",
    "        )\n",
    "]\n",
    "\n",
    "processing_outputs = [\n",
    "        ProcessingOutput(\n",
    "            output_name=\"train_data\", \n",
    "            source=\"/opt/ml/processing/output/train\",\n",
    "            destination=train_s3_url,\n",
    "        ),\n",
    "        ProcessingOutput(\n",
    "            output_name=\"validation_data\", \n",
    "            source=\"/opt/ml/processing/output/validation\", \n",
    "            destination=validation_s3_url\n",
    "        ),\n",
    "        ProcessingOutput(\n",
    "            output_name=\"test_data\", \n",
    "            source=\"/opt/ml/processing/output/test\", \n",
    "            destination=test_s3_url\n",
    "        ),\n",
    "]"
   ]
  },
  {
   "cell_type": "code",
   "execution_count": null,
   "id": "fda10172-b957-4f34-889d-3f216625eea0",
   "metadata": {
    "tags": []
   },
   "outputs": [],
   "source": [
    "# Create a processor\n",
    "sklearn_processor = SKLearnProcessor(\n",
    "    framework_version=framework_version,\n",
    "    role=sm_role,\n",
    "    instance_type=processing_instance_type,\n",
    "    instance_count=processing_instance_count, \n",
    "    base_job_name='sm-admin-workshop-processing',\n",
    "    sagemaker_session=sm_session,\n",
    "    network_config=network_config,\n",
    "    volume_kms_key = ebs_key_arn,        \n",
    ")"
   ]
  },
  {
   "cell_type": "code",
   "execution_count": null,
   "id": "cf085322-37bd-46ea-b509-e69311da7c8e",
   "metadata": {
    "tags": []
   },
   "outputs": [],
   "source": [
    "# Start the processing job - the call will be successful\n",
    "# If this call fails with AccessDeniedException because of an explicit deny, make sure you delete tag-based access policy you added in the lab 2 from the user execution role\n",
    "sklearn_processor.run(\n",
    "        inputs=processing_inputs,\n",
    "        outputs=processing_outputs,\n",
    "        code='preprocessing.py',\n",
    "        wait=False,\n",
    ")"
   ]
  },
  {
   "cell_type": "markdown",
   "id": "d0d34a68-2597-4dc9-89db-75a1e4cfe8b8",
   "metadata": {},
   "source": [
    "#### Enforce the designated subnets\n",
    "Let's implement the enforcement of the specific values in the network configuration. Update the preventive IAM policy attached to the user profile execution role as instructed in the workshop lab in the section **Enforce VPC configuration**."
   ]
  },
  {
   "cell_type": "code",
   "execution_count": null,
   "id": "1fb3cbbe-774d-472a-b79e-5c091deb3f33",
   "metadata": {
    "tags": []
   },
   "outputs": [],
   "source": [
    "# Set the private_subnet_ids to some new value\n",
    "private_subnet_ids=\"subnet-011e4fcfca10fffea\""
   ]
  },
  {
   "cell_type": "code",
   "execution_count": null,
   "id": "eecf054d-4bfe-4c41-ad6d-2bdf61e61f48",
   "metadata": {
    "tags": []
   },
   "outputs": [],
   "source": [
    "# Create the NetworkConfig\n",
    "network_config = NetworkConfig(\n",
    "        enable_network_isolation=False, \n",
    "        security_group_ids=security_group_ids.split(','),\n",
    "        subnets=private_subnet_ids.split(','),\n",
    "        encrypt_inter_container_traffic=True)"
   ]
  },
  {
   "cell_type": "code",
   "execution_count": null,
   "id": "f267da17-3f10-40a1-bb8e-5a373f822afc",
   "metadata": {},
   "outputs": [],
   "source": [
    "# Create a processor\n",
    "sklearn_processor = SKLearnProcessor(\n",
    "    framework_version=framework_version,\n",
    "    role=sm_role,\n",
    "    instance_type=processing_instance_type,\n",
    "    instance_count=processing_instance_count, \n",
    "    base_job_name='sm-admin-workshop-processing',\n",
    "    sagemaker_session=sm_session,\n",
    "    network_config=network_config,\n",
    "    volume_kms_key = ebs_key_arn\n",
    ")"
   ]
  },
  {
   "cell_type": "code",
   "execution_count": null,
   "id": "9063a97d-5cee-47cb-a6a1-22a67f594b28",
   "metadata": {},
   "outputs": [],
   "source": [
    "# Start the processing job - this will raise an AccessDeniedException\n",
    "sklearn_processor.run(\n",
    "        inputs=processing_inputs,\n",
    "        outputs=processing_outputs,\n",
    "        code='preprocessing.py',\n",
    "        wait=True,\n",
    ")"
   ]
  },
  {
   "cell_type": "markdown",
   "id": "e000125d-7bd2-42d3-8b25-22f7b56451ed",
   "metadata": {},
   "source": [
    "## Quiz\n",
    "Answer the following questions to test your understanding of the introduced concepts."
   ]
  },
  {
   "cell_type": "code",
   "execution_count": null,
   "id": "952467c9-9e11-4d0d-8d16-256dd3927d68",
   "metadata": {
    "tags": []
   },
   "outputs": [],
   "source": [
    "from workshop_utils.quiz_questions import *"
   ]
  },
  {
   "cell_type": "code",
   "execution_count": null,
   "id": "411770dc-5f95-4707-8c31-864b80f45dd7",
   "metadata": {
    "tags": []
   },
   "outputs": [],
   "source": [
    "lab3_question1"
   ]
  },
  {
   "cell_type": "code",
   "execution_count": null,
   "id": "df85cea8-ff48-40bc-85df-977f4b175189",
   "metadata": {
    "tags": []
   },
   "outputs": [],
   "source": [
    "lab3_question2"
   ]
  },
  {
   "cell_type": "code",
   "execution_count": null,
   "id": "1238f651-fc5f-4533-a806-f80bb4808a19",
   "metadata": {
    "tags": []
   },
   "outputs": [],
   "source": [
    "lab3_question3"
   ]
  },
  {
   "cell_type": "code",
   "execution_count": null,
   "id": "108c16c5-b1b9-48e4-97ba-f39a0f859d4f",
   "metadata": {
    "tags": []
   },
   "outputs": [],
   "source": [
    "lab3_question4"
   ]
  },
  {
   "cell_type": "code",
   "execution_count": null,
   "id": "cecf36f3-595e-453a-8158-b671c3a72a94",
   "metadata": {
    "tags": []
   },
   "outputs": [],
   "source": [
    "lab3_question5"
   ]
  },
  {
   "cell_type": "markdown",
   "id": "2219a602-8093-4813-8a65-de40e7739120",
   "metadata": {},
   "source": [
    "## End of the lab 3\n",
    "\n",
    "---"
   ]
  },
  {
   "cell_type": "markdown",
   "id": "6fdc83be-d139-40b6-8c23-c9aa5d495a25",
   "metadata": {
    "tags": []
   },
   "source": [
    "## Shutdown kernel"
   ]
  },
  {
   "cell_type": "code",
   "execution_count": null,
   "id": "3343dd43-73aa-47ff-99f9-09fb29c95eab",
   "metadata": {},
   "outputs": [],
   "source": [
    "%%html\n",
    "\n",
    "<p><b>Shutting down your kernel for this notebook to release resources.</b></p>\n",
    "<button class=\"sm-command-button\" data-commandlinker-command=\"kernelmenu:shutdown\" style=\"display:none;\">Shutdown Kernel</button>\n",
    "        \n",
    "<script>\n",
    "try {\n",
    "    els = document.getElementsByClassName(\"sm-command-button\");\n",
    "    els[0].click();\n",
    "}\n",
    "catch(err) {\n",
    "    // NoOp\n",
    "}    \n",
    "</script>"
   ]
  }
 ],
 "metadata": {
  "availableInstances": [
   {
    "_defaultOrder": 0,
    "_isFastLaunch": true,
    "category": "General purpose",
    "gpuNum": 0,
    "hideHardwareSpecs": false,
    "memoryGiB": 4,
    "name": "ml.t3.medium",
    "vcpuNum": 2
   },
   {
    "_defaultOrder": 1,
    "_isFastLaunch": false,
    "category": "General purpose",
    "gpuNum": 0,
    "hideHardwareSpecs": false,
    "memoryGiB": 8,
    "name": "ml.t3.large",
    "vcpuNum": 2
   },
   {
    "_defaultOrder": 2,
    "_isFastLaunch": false,
    "category": "General purpose",
    "gpuNum": 0,
    "hideHardwareSpecs": false,
    "memoryGiB": 16,
    "name": "ml.t3.xlarge",
    "vcpuNum": 4
   },
   {
    "_defaultOrder": 3,
    "_isFastLaunch": false,
    "category": "General purpose",
    "gpuNum": 0,
    "hideHardwareSpecs": false,
    "memoryGiB": 32,
    "name": "ml.t3.2xlarge",
    "vcpuNum": 8
   },
   {
    "_defaultOrder": 4,
    "_isFastLaunch": true,
    "category": "General purpose",
    "gpuNum": 0,
    "hideHardwareSpecs": false,
    "memoryGiB": 8,
    "name": "ml.m5.large",
    "vcpuNum": 2
   },
   {
    "_defaultOrder": 5,
    "_isFastLaunch": false,
    "category": "General purpose",
    "gpuNum": 0,
    "hideHardwareSpecs": false,
    "memoryGiB": 16,
    "name": "ml.m5.xlarge",
    "vcpuNum": 4
   },
   {
    "_defaultOrder": 6,
    "_isFastLaunch": false,
    "category": "General purpose",
    "gpuNum": 0,
    "hideHardwareSpecs": false,
    "memoryGiB": 32,
    "name": "ml.m5.2xlarge",
    "vcpuNum": 8
   },
   {
    "_defaultOrder": 7,
    "_isFastLaunch": false,
    "category": "General purpose",
    "gpuNum": 0,
    "hideHardwareSpecs": false,
    "memoryGiB": 64,
    "name": "ml.m5.4xlarge",
    "vcpuNum": 16
   },
   {
    "_defaultOrder": 8,
    "_isFastLaunch": false,
    "category": "General purpose",
    "gpuNum": 0,
    "hideHardwareSpecs": false,
    "memoryGiB": 128,
    "name": "ml.m5.8xlarge",
    "vcpuNum": 32
   },
   {
    "_defaultOrder": 9,
    "_isFastLaunch": false,
    "category": "General purpose",
    "gpuNum": 0,
    "hideHardwareSpecs": false,
    "memoryGiB": 192,
    "name": "ml.m5.12xlarge",
    "vcpuNum": 48
   },
   {
    "_defaultOrder": 10,
    "_isFastLaunch": false,
    "category": "General purpose",
    "gpuNum": 0,
    "hideHardwareSpecs": false,
    "memoryGiB": 256,
    "name": "ml.m5.16xlarge",
    "vcpuNum": 64
   },
   {
    "_defaultOrder": 11,
    "_isFastLaunch": false,
    "category": "General purpose",
    "gpuNum": 0,
    "hideHardwareSpecs": false,
    "memoryGiB": 384,
    "name": "ml.m5.24xlarge",
    "vcpuNum": 96
   },
   {
    "_defaultOrder": 12,
    "_isFastLaunch": false,
    "category": "General purpose",
    "gpuNum": 0,
    "hideHardwareSpecs": false,
    "memoryGiB": 8,
    "name": "ml.m5d.large",
    "vcpuNum": 2
   },
   {
    "_defaultOrder": 13,
    "_isFastLaunch": false,
    "category": "General purpose",
    "gpuNum": 0,
    "hideHardwareSpecs": false,
    "memoryGiB": 16,
    "name": "ml.m5d.xlarge",
    "vcpuNum": 4
   },
   {
    "_defaultOrder": 14,
    "_isFastLaunch": false,
    "category": "General purpose",
    "gpuNum": 0,
    "hideHardwareSpecs": false,
    "memoryGiB": 32,
    "name": "ml.m5d.2xlarge",
    "vcpuNum": 8
   },
   {
    "_defaultOrder": 15,
    "_isFastLaunch": false,
    "category": "General purpose",
    "gpuNum": 0,
    "hideHardwareSpecs": false,
    "memoryGiB": 64,
    "name": "ml.m5d.4xlarge",
    "vcpuNum": 16
   },
   {
    "_defaultOrder": 16,
    "_isFastLaunch": false,
    "category": "General purpose",
    "gpuNum": 0,
    "hideHardwareSpecs": false,
    "memoryGiB": 128,
    "name": "ml.m5d.8xlarge",
    "vcpuNum": 32
   },
   {
    "_defaultOrder": 17,
    "_isFastLaunch": false,
    "category": "General purpose",
    "gpuNum": 0,
    "hideHardwareSpecs": false,
    "memoryGiB": 192,
    "name": "ml.m5d.12xlarge",
    "vcpuNum": 48
   },
   {
    "_defaultOrder": 18,
    "_isFastLaunch": false,
    "category": "General purpose",
    "gpuNum": 0,
    "hideHardwareSpecs": false,
    "memoryGiB": 256,
    "name": "ml.m5d.16xlarge",
    "vcpuNum": 64
   },
   {
    "_defaultOrder": 19,
    "_isFastLaunch": false,
    "category": "General purpose",
    "gpuNum": 0,
    "hideHardwareSpecs": false,
    "memoryGiB": 384,
    "name": "ml.m5d.24xlarge",
    "vcpuNum": 96
   },
   {
    "_defaultOrder": 20,
    "_isFastLaunch": false,
    "category": "General purpose",
    "gpuNum": 0,
    "hideHardwareSpecs": true,
    "memoryGiB": 0,
    "name": "ml.geospatial.interactive",
    "supportedImageNames": [
     "sagemaker-geospatial-v1-0"
    ],
    "vcpuNum": 0
   },
   {
    "_defaultOrder": 21,
    "_isFastLaunch": true,
    "category": "Compute optimized",
    "gpuNum": 0,
    "hideHardwareSpecs": false,
    "memoryGiB": 4,
    "name": "ml.c5.large",
    "vcpuNum": 2
   },
   {
    "_defaultOrder": 22,
    "_isFastLaunch": false,
    "category": "Compute optimized",
    "gpuNum": 0,
    "hideHardwareSpecs": false,
    "memoryGiB": 8,
    "name": "ml.c5.xlarge",
    "vcpuNum": 4
   },
   {
    "_defaultOrder": 23,
    "_isFastLaunch": false,
    "category": "Compute optimized",
    "gpuNum": 0,
    "hideHardwareSpecs": false,
    "memoryGiB": 16,
    "name": "ml.c5.2xlarge",
    "vcpuNum": 8
   },
   {
    "_defaultOrder": 24,
    "_isFastLaunch": false,
    "category": "Compute optimized",
    "gpuNum": 0,
    "hideHardwareSpecs": false,
    "memoryGiB": 32,
    "name": "ml.c5.4xlarge",
    "vcpuNum": 16
   },
   {
    "_defaultOrder": 25,
    "_isFastLaunch": false,
    "category": "Compute optimized",
    "gpuNum": 0,
    "hideHardwareSpecs": false,
    "memoryGiB": 72,
    "name": "ml.c5.9xlarge",
    "vcpuNum": 36
   },
   {
    "_defaultOrder": 26,
    "_isFastLaunch": false,
    "category": "Compute optimized",
    "gpuNum": 0,
    "hideHardwareSpecs": false,
    "memoryGiB": 96,
    "name": "ml.c5.12xlarge",
    "vcpuNum": 48
   },
   {
    "_defaultOrder": 27,
    "_isFastLaunch": false,
    "category": "Compute optimized",
    "gpuNum": 0,
    "hideHardwareSpecs": false,
    "memoryGiB": 144,
    "name": "ml.c5.18xlarge",
    "vcpuNum": 72
   },
   {
    "_defaultOrder": 28,
    "_isFastLaunch": false,
    "category": "Compute optimized",
    "gpuNum": 0,
    "hideHardwareSpecs": false,
    "memoryGiB": 192,
    "name": "ml.c5.24xlarge",
    "vcpuNum": 96
   },
   {
    "_defaultOrder": 29,
    "_isFastLaunch": true,
    "category": "Accelerated computing",
    "gpuNum": 1,
    "hideHardwareSpecs": false,
    "memoryGiB": 16,
    "name": "ml.g4dn.xlarge",
    "vcpuNum": 4
   },
   {
    "_defaultOrder": 30,
    "_isFastLaunch": false,
    "category": "Accelerated computing",
    "gpuNum": 1,
    "hideHardwareSpecs": false,
    "memoryGiB": 32,
    "name": "ml.g4dn.2xlarge",
    "vcpuNum": 8
   },
   {
    "_defaultOrder": 31,
    "_isFastLaunch": false,
    "category": "Accelerated computing",
    "gpuNum": 1,
    "hideHardwareSpecs": false,
    "memoryGiB": 64,
    "name": "ml.g4dn.4xlarge",
    "vcpuNum": 16
   },
   {
    "_defaultOrder": 32,
    "_isFastLaunch": false,
    "category": "Accelerated computing",
    "gpuNum": 1,
    "hideHardwareSpecs": false,
    "memoryGiB": 128,
    "name": "ml.g4dn.8xlarge",
    "vcpuNum": 32
   },
   {
    "_defaultOrder": 33,
    "_isFastLaunch": false,
    "category": "Accelerated computing",
    "gpuNum": 4,
    "hideHardwareSpecs": false,
    "memoryGiB": 192,
    "name": "ml.g4dn.12xlarge",
    "vcpuNum": 48
   },
   {
    "_defaultOrder": 34,
    "_isFastLaunch": false,
    "category": "Accelerated computing",
    "gpuNum": 1,
    "hideHardwareSpecs": false,
    "memoryGiB": 256,
    "name": "ml.g4dn.16xlarge",
    "vcpuNum": 64
   },
   {
    "_defaultOrder": 35,
    "_isFastLaunch": false,
    "category": "Accelerated computing",
    "gpuNum": 1,
    "hideHardwareSpecs": false,
    "memoryGiB": 61,
    "name": "ml.p3.2xlarge",
    "vcpuNum": 8
   },
   {
    "_defaultOrder": 36,
    "_isFastLaunch": false,
    "category": "Accelerated computing",
    "gpuNum": 4,
    "hideHardwareSpecs": false,
    "memoryGiB": 244,
    "name": "ml.p3.8xlarge",
    "vcpuNum": 32
   },
   {
    "_defaultOrder": 37,
    "_isFastLaunch": false,
    "category": "Accelerated computing",
    "gpuNum": 8,
    "hideHardwareSpecs": false,
    "memoryGiB": 488,
    "name": "ml.p3.16xlarge",
    "vcpuNum": 64
   },
   {
    "_defaultOrder": 38,
    "_isFastLaunch": false,
    "category": "Accelerated computing",
    "gpuNum": 8,
    "hideHardwareSpecs": false,
    "memoryGiB": 768,
    "name": "ml.p3dn.24xlarge",
    "vcpuNum": 96
   },
   {
    "_defaultOrder": 39,
    "_isFastLaunch": false,
    "category": "Memory Optimized",
    "gpuNum": 0,
    "hideHardwareSpecs": false,
    "memoryGiB": 16,
    "name": "ml.r5.large",
    "vcpuNum": 2
   },
   {
    "_defaultOrder": 40,
    "_isFastLaunch": false,
    "category": "Memory Optimized",
    "gpuNum": 0,
    "hideHardwareSpecs": false,
    "memoryGiB": 32,
    "name": "ml.r5.xlarge",
    "vcpuNum": 4
   },
   {
    "_defaultOrder": 41,
    "_isFastLaunch": false,
    "category": "Memory Optimized",
    "gpuNum": 0,
    "hideHardwareSpecs": false,
    "memoryGiB": 64,
    "name": "ml.r5.2xlarge",
    "vcpuNum": 8
   },
   {
    "_defaultOrder": 42,
    "_isFastLaunch": false,
    "category": "Memory Optimized",
    "gpuNum": 0,
    "hideHardwareSpecs": false,
    "memoryGiB": 128,
    "name": "ml.r5.4xlarge",
    "vcpuNum": 16
   },
   {
    "_defaultOrder": 43,
    "_isFastLaunch": false,
    "category": "Memory Optimized",
    "gpuNum": 0,
    "hideHardwareSpecs": false,
    "memoryGiB": 256,
    "name": "ml.r5.8xlarge",
    "vcpuNum": 32
   },
   {
    "_defaultOrder": 44,
    "_isFastLaunch": false,
    "category": "Memory Optimized",
    "gpuNum": 0,
    "hideHardwareSpecs": false,
    "memoryGiB": 384,
    "name": "ml.r5.12xlarge",
    "vcpuNum": 48
   },
   {
    "_defaultOrder": 45,
    "_isFastLaunch": false,
    "category": "Memory Optimized",
    "gpuNum": 0,
    "hideHardwareSpecs": false,
    "memoryGiB": 512,
    "name": "ml.r5.16xlarge",
    "vcpuNum": 64
   },
   {
    "_defaultOrder": 46,
    "_isFastLaunch": false,
    "category": "Memory Optimized",
    "gpuNum": 0,
    "hideHardwareSpecs": false,
    "memoryGiB": 768,
    "name": "ml.r5.24xlarge",
    "vcpuNum": 96
   },
   {
    "_defaultOrder": 47,
    "_isFastLaunch": false,
    "category": "Accelerated computing",
    "gpuNum": 1,
    "hideHardwareSpecs": false,
    "memoryGiB": 16,
    "name": "ml.g5.xlarge",
    "vcpuNum": 4
   },
   {
    "_defaultOrder": 48,
    "_isFastLaunch": false,
    "category": "Accelerated computing",
    "gpuNum": 1,
    "hideHardwareSpecs": false,
    "memoryGiB": 32,
    "name": "ml.g5.2xlarge",
    "vcpuNum": 8
   },
   {
    "_defaultOrder": 49,
    "_isFastLaunch": false,
    "category": "Accelerated computing",
    "gpuNum": 1,
    "hideHardwareSpecs": false,
    "memoryGiB": 64,
    "name": "ml.g5.4xlarge",
    "vcpuNum": 16
   },
   {
    "_defaultOrder": 50,
    "_isFastLaunch": false,
    "category": "Accelerated computing",
    "gpuNum": 1,
    "hideHardwareSpecs": false,
    "memoryGiB": 128,
    "name": "ml.g5.8xlarge",
    "vcpuNum": 32
   },
   {
    "_defaultOrder": 51,
    "_isFastLaunch": false,
    "category": "Accelerated computing",
    "gpuNum": 1,
    "hideHardwareSpecs": false,
    "memoryGiB": 256,
    "name": "ml.g5.16xlarge",
    "vcpuNum": 64
   },
   {
    "_defaultOrder": 52,
    "_isFastLaunch": false,
    "category": "Accelerated computing",
    "gpuNum": 4,
    "hideHardwareSpecs": false,
    "memoryGiB": 192,
    "name": "ml.g5.12xlarge",
    "vcpuNum": 48
   },
   {
    "_defaultOrder": 53,
    "_isFastLaunch": false,
    "category": "Accelerated computing",
    "gpuNum": 4,
    "hideHardwareSpecs": false,
    "memoryGiB": 384,
    "name": "ml.g5.24xlarge",
    "vcpuNum": 96
   },
   {
    "_defaultOrder": 54,
    "_isFastLaunch": false,
    "category": "Accelerated computing",
    "gpuNum": 8,
    "hideHardwareSpecs": false,
    "memoryGiB": 768,
    "name": "ml.g5.48xlarge",
    "vcpuNum": 192
   }
  ],
  "instance_type": "ml.t3.medium",
  "kernelspec": {
   "display_name": "Python 3 (Data Science)",
   "language": "python",
   "name": "python3__SAGEMAKER_INTERNAL__arn:aws:sagemaker:us-east-1:081325390199:image/datascience-1.0"
  },
  "language_info": {
   "codemirror_mode": {
    "name": "ipython",
    "version": 3
   },
   "file_extension": ".py",
   "mimetype": "text/x-python",
   "name": "python",
   "nbconvert_exporter": "python",
   "pygments_lexer": "ipython3",
   "version": "3.7.10"
  }
 },
 "nbformat": 4,
 "nbformat_minor": 5
}
